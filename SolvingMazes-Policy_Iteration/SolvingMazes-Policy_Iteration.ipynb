{
 "cells": [
  {
   "cell_type": "markdown",
   "metadata": {},
   "source": [
    "# **SolvingMazes-Policy_Iteration**"
   ]
  },
  {
   "cell_type": "markdown",
   "metadata": {},
   "source": [
    "### Create Maze"
   ]
  },
  {
   "cell_type": "code",
   "execution_count": 1,
   "metadata": {},
   "outputs": [
    {
     "name": "stdout",
     "output_type": "stream",
     "text": [
      "Overwriting ./maze0.txt\n"
     ]
    }
   ],
   "source": [
    "%%writefile ./maze0.txt\n",
    "############B###############\n",
    "## ### #####              ##\n",
    "## ### #####  #### ### ##  #\n",
    "#                  ### ### #\n",
    "# ### ################ ### #\n",
    "# ### #####            ### #\n",
    "# ###       # #### ## ###  #\n",
    "# #### #### #  #### # #### #\n",
    "# ##    ### # #            #\n",
    "#  ### #### # ######## ### #\n",
    "## ##   ###       #### ### #\n",
    "## #### #### #### #### ### #\n",
    "## #### #### #### #### ### #\n",
    "##                         #\n",
    "###A########################"
   ]
  },
  {
   "cell_type": "code",
   "execution_count": null,
   "metadata": {},
   "outputs": [],
   "source": [
    "#Load Maze\n",
    "with open('./maze0.txt') as f:\n",
    "    contents = f.read()"
   ]
  },
  {
   "cell_type": "code",
   "execution_count": null,
   "metadata": {},
   "outputs": [],
   "source": [
    "print(contents)"
   ]
  },
  {
   "cell_type": "code",
   "execution_count": 20,
   "metadata": {},
   "outputs": [],
   "source": [
    "import sys\n",
    "import numpy as np\n",
    "import sklearn.preprocessing as sc\n",
    "import matplotlib.pyplot as plt\n",
    "import cv2\n",
    "import operator\n",
    "        \n",
    "class PolicyIteration4SolveMaze():\n",
    "\n",
    "    def __init__(self, contents):\n",
    "                \n",
    "        \"\"\"# Read file and set height and width of maze\n",
    "        with open(filename) as f:\n",
    "            contents = f.read()\"\"\"\n",
    "        \n",
    "        # Validate start and goal\n",
    "        if contents.count(\"A\") != 1:\n",
    "            raise Exception(\"maze must have exactly one start point\")\n",
    "        if contents.count(\"B\") != 1:\n",
    "            raise Exception(\"maze must have exactly one goal\")\n",
    "        \n",
    "        self.actions =  [\"up\", \"down\", \"left\", \"right\"]\n",
    "        \n",
    "        # Determine height and width of maze\n",
    "        contents = contents.splitlines()\n",
    "        self.height = len(contents)\n",
    "        self.width = max(len(line) for line in contents)\n",
    "        self.states = []\n",
    "        self.gamma = .9 # This is the discount factor\n",
    "        self.theta = .00001 # Small number threshold to signal convergence of the value function\n",
    "        self.probs = [round(1/len(self.actions),2)] * len(self.actions)\n",
    "        self.policy = list(zip(self.actions,self.probs))\n",
    "        \n",
    "        # Keep track of walls\n",
    "        self.walls = []\n",
    "        self.wall_cords = []\n",
    "        for i in range(self.height):\n",
    "            row = []\n",
    "            for j in range(self.width):\n",
    "                try:\n",
    "                    if contents[i][j] == \"A\":\n",
    "                        self.start = (i, j)\n",
    "                        row.append(False)\n",
    "                        self.states.append((i,j))\n",
    "                    elif contents[i][j] == \"B\":\n",
    "                        self.goal = (i, j)\n",
    "                        row.append(False)\n",
    "                        self.states.append((i,j))\n",
    "                    elif contents[i][j] == \" \":\n",
    "                        row.append(False)\n",
    "                        self.states.append((i,j))\n",
    "                    else:\n",
    "                        row.append(True)\n",
    "                        self.wall_cords.append((i,j))\n",
    "                except IndexError:\n",
    "                    row.append(False)\n",
    "                    self.states.append((i,j))\n",
    "            self.walls.append(row)\n",
    "            \n",
    "\n",
    "        self.state_count = len(self.states)\n",
    "        self.solution = None\n",
    "        self.V = dict(zip(self.states, self.state_count*[0]))\n",
    "        self.pi = dict(zip(self.states, self.state_count*[0]))\n",
    "        for s in self.states:\n",
    "            avail_actions = self.actions\n",
    "            self.pi[s] = avail_actions[0]\n",
    "        self.pi1 = dict(zip(self.states, self.state_count*[0]))\n",
    "        \n",
    "    def print(self):\n",
    "        solution = self.solution[1] if self.solution is not None else None\n",
    "        print()\n",
    "        for i, row in enumerate(self.walls):\n",
    "            for j, col in enumerate(row):\n",
    "                if col:\n",
    "                    print(\"#\", end=\"\")\n",
    "                elif (i, j) == self.start:\n",
    "                    print(\"A\", end=\"\")\n",
    "                elif (i, j) == self.goal:\n",
    "                    print(\"B\", end=\"\")\n",
    "                elif solution is not None and (i, j) in solution:\n",
    "                    print(\"*\", end=\"\")\n",
    "                else:\n",
    "                    print(\" \", end=\"\")\n",
    "            print()\n",
    "        print()\n",
    "\n",
    "\n",
    "    def neighbors(self, state, a = None):\n",
    "        \"\"\"This function takes in a state and returns all available actions for that state the next state \n",
    "            and reward if each action is take, with a specific transition probability\"\"\"\n",
    "        row, col = state\n",
    "        candidates = [\n",
    "            (\"up\", (row - 1, col)),\n",
    "            (\"down\", (row + 1, col)),\n",
    "            (\"left\", (row, col - 1)),\n",
    "            (\"right\", (row, col + 1))\n",
    "        ]\n",
    "\n",
    "        result = []\n",
    "        for action, (r, c) in candidates:\n",
    "            if 0 <= r < self.height and 0 <= c < self.width and not self.walls[r][c]:\n",
    "                reward = 10000000 if ((r,c) == self.goal) or (state == self.goal) else -1\n",
    "                trans_prob = 1\n",
    "                result.append((action, (r, c), reward, trans_prob))\n",
    "                \n",
    "        actions = [tup[0] for tup in result]\n",
    "\n",
    "        if a:\n",
    "            R = []\n",
    "            if a in actions:\n",
    "                inx = actions.index(a)\n",
    "                R.append((result[inx]))\n",
    "                return R\n",
    "            else: \n",
    "                R.append((a, (row,col), -15, 1))\n",
    "                return R\n",
    "        return result\n",
    "          \n",
    "    def bellmans_update(self, s,V):\n",
    "        v = dict(zip(self.actions,len(self.actions) * [0]))\n",
    "        for a , prob in self.policy:\n",
    "            for (_,next_state, r, p) in self.neighbors(s,a):\n",
    "                v[a] += prob * p * (r + self.gamma * V[next_state])\n",
    "        return sum(v.values())\n",
    "    \n",
    "        \n",
    "    # POLICY EVALUATION - Inplace\n",
    "    def policy_eval_in_place(self):  \n",
    "        V = dict(zip(self.states, self.state_count*[0]))\n",
    "        phi = sum(V.values())\n",
    "        while True:\n",
    "            delta = 0\n",
    "            for s in self.states:\n",
    "                vv = self.bellmans_update(s,V) \n",
    "                V[s]= vv\n",
    "                delta = max(delta, np.abs(phi - sum(V.values())))\n",
    "            # Stop evaluating once our value function change is below a threshold\n",
    "            if delta < self.theta:\n",
    "                break\n",
    "            phi = sum(V.values())\n",
    "        return V\n",
    "    \n",
    "    def one_step_lookahead(self,s,V):\n",
    "        \"\"\"\n",
    "        Helper function to calculate the value for all action in a given state.\n",
    "\n",
    "        Args:\n",
    "            state: The state to consider (int)\n",
    "            V: The value to use as an estimator, Vector of length env.nS\n",
    "\n",
    "        Returns:\n",
    "            A vector of length env.nA containing the expected value of each action.\n",
    "        \"\"\"\n",
    "        A = dict(zip(self.actions,len(self.actions) * [0]))\n",
    "        for a, action_prob, in self.policy:\n",
    "            for (_,next_state, r, p) in self.neighbors(s,a):\n",
    "                A[a] += action_prob * p * (r + self.gamma * V[next_state])\n",
    "        return A \n",
    "    \n",
    "    def plot_state_values(self):\n",
    "        val = np.array(list(self.V.values())).reshape(-1,1)\n",
    "        va = sc.MinMaxScaler(feature_range=(0, 255)).fit_transform(val).flatten()\n",
    "        V = {}\n",
    "        for i in range(len(va)):\n",
    "            V[list(self.V.keys())[i]] = va[i]\n",
    "\n",
    "        # create a black image\n",
    "        img  = np.ones((self.height,self.width,3), np.uint8)\n",
    "\n",
    "        for item in V.items():\n",
    "            (r,c),vx = item\n",
    "            img[r,c] = [0,vx,0]\n",
    "\n",
    "        for r,c in self.wall_cords:\n",
    "            img[r,c] = [150,5,150]\n",
    "\n",
    "        img[self.start[0],self.start[1]] = [255,0,0]\n",
    "        img[self.goal[0],self.goal[1]] = [0,0,255]\n",
    "        def showimg(img):\n",
    "            plt.figure(figsize = (15,15))\n",
    "            plt.imshow(img, cmap='viridis')\n",
    "            plt.xticks([])\n",
    "            plt.yticks([])\n",
    "            #plt.colorbar()\n",
    "            plt.show()\n",
    "        showimg(img)\n",
    "        \n",
    "        def policy_(s):\n",
    "            row, col = s\n",
    "            candidates = [\n",
    "                (\"up\", (row - 1, col)),\n",
    "                (\"down\", (row + 1, col)),\n",
    "                (\"left\", (row, col - 1)),\n",
    "                (\"right\", (row, col + 1))\n",
    "            ]\n",
    "\n",
    "\n",
    "            if s in self.wall_cords:\n",
    "                return ('This state is in the wall')\n",
    "            else:\n",
    "                values = {a:self.V[r,c] for a,(r,c) in candidates if 0<=r<self.height and 0<=c<self.width and not self.walls[r][c]}\n",
    "                values = {v:k for k,v in values.items()}\n",
    "                best = values[max(values)]\n",
    "            return best\n",
    "        \n",
    "        pi = np.zeros((self.height, self.width)).astype('str')\n",
    "        pi = np.where(pi=='0.0', 'wall', pi)\n",
    "        candidates = {\n",
    "                    \"up\": [255,0,0],\n",
    "                    \"down\": [0,0,255],\n",
    "                    \"left\": [0,255,0],\n",
    "                    \"right\": [255,255,0]\n",
    "        }\n",
    "        for item in self.pi.keys():\n",
    "            action = policy_(item)\n",
    "            r,c = item\n",
    "            pi[r,c] = action\n",
    "            img[r,c] = candidates[action]\n",
    "\n",
    "        def showimg(img):\n",
    "            plt.figure(figsize = (15,15))\n",
    "            plt.imshow(img, cmap='viridis', )\n",
    "            plt.yticks(list(range(self.height)))\n",
    "            plt.xticks(list(range(self.width)))\n",
    "            plt.title(\"POLICY\\n\\nRED  =>  up\\nBLUE  =>  down\\nGREEN  =>  left\\nYELLOW  =>  right\")\n",
    "            #plt.colorbar()\n",
    "            plt.show()\n",
    "        showimg(img)\n",
    "        return img\n",
    "    \n",
    "    \n",
    "    def solve_policy_iteration(self):\n",
    "        print('Maze before policy iteration')\n",
    "        img = self.plot_state_values()\n",
    "        while True:\n",
    "            stable_state = True\n",
    "            self.V = self.policy_eval_in_place()\n",
    "            \n",
    "            self.pi2 = dict(zip(self.states, self.state_count*[0]))\n",
    "            for s in self.states:\n",
    "                samples = { k:v for k,v in self.one_step_lookahead(s,self.V).items() if k in [a for a,_,_1,_2 in self.neighbors(s)]}\n",
    "                best_choice = max(samples.items(), key=operator.itemgetter(1))\n",
    "                self.pi2[s] = best_choice[0]\n",
    "                self.V[s] = best_choice[1]\n",
    "                self.pi1[s] = samples\n",
    "            if self.pi != self.pi2:\n",
    "                stable_state = False\n",
    "                self.pi  = self.pi2\n",
    "            else:\n",
    "                break\n",
    "        print('Maze is solved. Call print solution\\n\\n')\n",
    "        print('Maze After policy iteration')\n",
    "        img = self.plot_state_values()\n",
    "    \n",
    "m = PolicyIteration4SolveMaze(contents = contents)"
   ]
  },
  {
   "cell_type": "code",
   "execution_count": 21,
   "metadata": {},
   "outputs": [
    {
     "name": "stdout",
     "output_type": "stream",
     "text": [
      "Maze before policy iteration\n"
     ]
    },
    {
     "data": {
      "image/png": "[encoded data removed]",
      "text/plain": [
       "<Figure size 1080x1080 with 1 Axes>"
      ]
     },
     "metadata": {},
     "output_type": "display_data"
    },
    {
     "data": {
      "image/png": "[encoded data removed]",
      "text/plain": [
       "<Figure size 1080x1080 with 1 Axes>"
      ]
     },
     "metadata": {
      "needs_background": "light"
     },
     "output_type": "display_data"
    },
    {
     "name": "stdout",
     "output_type": "stream",
     "text": [
      "Maze is solved. Call print solution\n",
      "\n",
      "\n",
      "Maze After policy iteration\n"
     ]
    },
    {
     "data": {
      "image/png": "[encoded data removed]",
      "text/plain": [
       "<Figure size 1080x1080 with 1 Axes>"
      ]
     },
     "metadata": {},
     "output_type": "display_data"
    },
    {
     "data": {
      "image/png": "[encoded data removed]",
      "text/plain": [
       "<Figure size 1080x1080 with 1 Axes>"
      ]
     },
     "metadata": {
      "needs_background": "light"
     },
     "output_type": "display_data"
    }
   ],
   "source": [
    "m.solve_policy_iteration()"
   ]
  },
  {
   "cell_type": "code",
   "execution_count": null,
   "metadata": {},
   "outputs": [],
   "source": []
  },
  {
   "cell_type": "code",
   "execution_count": null,
   "metadata": {},
   "outputs": [],
   "source": []
  }
 ],
 "metadata": {
  "kernelspec": {
   "display_name": "Python 3",
   "language": "python",
   "name": "python3"
  },
  "language_info": {
   "codemirror_mode": {
    "name": "ipython",
    "version": 3
   },
   "file_extension": ".py",
   "mimetype": "text/x-python",
   "name": "python",
   "nbconvert_exporter": "python",
   "pygments_lexer": "ipython3",
   "version": "3.8.4"
  }
 },
 "nbformat": 4,
 "nbformat_minor": 4
}
