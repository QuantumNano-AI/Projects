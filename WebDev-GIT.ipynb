{
 "cells": [
  {
   "cell_type": "markdown",
   "metadata": {},
   "source": [
    "`git clone` `<url>`"
   ]
  },
  {
   "cell_type": "markdown",
   "metadata": {},
   "source": [
    "`rm -rf` `<directory>`  Removing an already exixsting directoty"
   ]
  },
  {
   "cell_type": "markdown",
   "metadata": {},
   "source": [
    "`cd` `<Directory path>` Change Directory"
   ]
  },
  {
   "cell_type": "markdown",
   "metadata": {},
   "source": [
    "`ls` List all files in directory"
   ]
  },
  {
   "cell_type": "markdown",
   "metadata": {},
   "source": [
    "`touch` `<file name>` Create new file"
   ]
  },
  {
   "cell_type": "code",
   "execution_count": 25,
   "metadata": {},
   "outputs": [
    {
     "data": {
      "text/plain": [
       "0.0311284046692607"
      ]
     },
     "execution_count": 25,
     "metadata": {},
     "output_type": "execute_result"
    }
   ],
   "source": [
    "0.0032/0.1028"
   ]
  },
  {
   "cell_type": "code",
   "execution_count": 5,
   "metadata": {},
   "outputs": [
    {
     "data": {
      "text/html": [
       "<!DOCTYPE html>\n",
       "<html>\n",
       "    <head>\n",
       "        <title>My first web page</title>\n",
       "    </head>\n",
       "    <body>\n",
       "        Hello, World!\n",
       "    </body>\n",
       "</html>"
      ],
      "text/plain": [
       "<IPython.core.display.HTML object>"
      ]
     },
     "metadata": {},
     "output_type": "display_data"
    }
   ],
   "source": [
    "%%html\n",
    "<!DOCTYPE html>\n",
    "<html>\n",
    "    <head>\n",
    "        <title>My first web page</title>\n",
    "    </head>\n",
    "    <body>\n",
    "        Hello, World!\n",
    "    </body>\n",
    "</html>"
   ]
  },
  {
   "cell_type": "markdown",
   "metadata": {},
   "source": [
    "`git add` `<file name>` These are the files i want to commit next time"
   ]
  },
  {
   "cell_type": "markdown",
   "metadata": {},
   "source": [
    "`git commit` `-m` `<\"message\">`\n",
    "\n",
    "`git commit` `-am` `<\"message\">` Combine `git add` and `git commit`"
   ]
  },
  {
   "cell_type": "markdown",
   "metadata": {},
   "source": [
    "`git status` What is currently going on in repository"
   ]
  },
  {
   "cell_type": "markdown",
   "metadata": {},
   "source": [
    "`git push` Push changes to local repo to git-hub repository"
   ]
  },
  {
   "cell_type": "markdown",
   "metadata": {},
   "source": [
    "`git pull` Get current version of git-hub repository"
   ]
  },
  {
   "cell_type": "markdown",
   "metadata": {},
   "source": [
    "`git log` Log of all repository activity with each commit hash\n",
    "\n",
    "`git reflog`"
   ]
  },
  {
   "cell_type": "markdown",
   "metadata": {},
   "source": [
    "`git reset --hard` `<commit hash>` Reset to previous commit version \n",
    "\n",
    "`git reset --hard` `origin/master` Reset to version on master branch"
   ]
  },
  {
   "cell_type": "code",
   "execution_count": 7,
   "metadata": {},
   "outputs": [
    {
     "data": {
      "text/html": [
       "<!DOCTYPE html> \n",
       "<html>\n",
       "    <head>\n",
       "        <title>\n",
       "            My first web page!\n",
       "        </title>\n",
       "    </head>\n",
       "    <body>\n",
       "        <h1>This is the largest headline</h1>\n",
       "        <h2>This is also a large headline</h2>\n",
       "        <h3>This is a slightly smaller headline</h3>\n",
       "        <h4>This is an even smaller headline</h4>\n",
       "        <h5>This is the second-smallest headline</h5>\n",
       "        <h6>This is the smallest headline</h6>\n",
       "    </body>\n",
       "</html>"
      ],
      "text/plain": [
       "<IPython.core.display.HTML object>"
      ]
     },
     "metadata": {},
     "output_type": "display_data"
    }
   ],
   "source": [
    "%%html\n",
    "<!DOCTYPE html> \n",
    "<html>\n",
    "    <head>\n",
    "        <title>\n",
    "            My first web page!\n",
    "        </title>\n",
    "    </head>\n",
    "    <body>\n",
    "        <h1>This is the largest headline</h1>\n",
    "        <h2>This is also a large headline</h2>\n",
    "        <h3>This is a slightly smaller headline</h3>\n",
    "        <h4>This is an even smaller headline</h4>\n",
    "        <h5>This is the second-smallest headline</h5>\n",
    "        <h6>This is the smallest headline</h6>\n",
    "    </body>\n",
    "</html>"
   ]
  },
  {
   "cell_type": "code",
   "execution_count": 8,
   "metadata": {},
   "outputs": [
    {
     "data": {
      "text/html": [
       "<!DOCTYPE html>\n",
       "<html>\n",
       "    <head>\n",
       "        <title>My Web Page!</title>\n",
       "    </head>\n",
       "    <body>\n",
       "        <h4>An Unordered List:</h4>\n",
       "        <ul>\n",
       "            <li>One Item</li>\n",
       "            <li>Another Item</li>\n",
       "            <li>Yet Another Item</li>\n",
       "        </ul>\n",
       "        <h4>An Ordered List:</h4>\n",
       "        <ol>\n",
       "            <li>First Item</li>\n",
       "            <li>Second Item</li>\n",
       "            <li>Another Item Here</li>\n",
       "            <li>Fourth Item</li>\n",
       "        </ol>\n",
       "    </body>\n",
       "</html>"
      ],
      "text/plain": [
       "<IPython.core.display.HTML object>"
      ]
     },
     "metadata": {},
     "output_type": "display_data"
    }
   ],
   "source": [
    "%%html\n",
    "<!DOCTYPE html>\n",
    "<html>\n",
    "    <head>\n",
    "        <title>My Web Page!</title>\n",
    "    </head>\n",
    "    <body>\n",
    "        <h4>An Unordered List:</h4>\n",
    "        <ul>\n",
    "            <li>One Item</li>\n",
    "            <li>Another Item</li>\n",
    "            <li>Yet Another Item</li>\n",
    "        </ul>\n",
    "        <h4>An Ordered List:</h4>\n",
    "        <ol>\n",
    "            <li>First Item</li>\n",
    "            <li>Second Item</li>\n",
    "            <li>Another Item Here</li>\n",
    "            <li>Fourth Item</li>\n",
    "        </ol>\n",
    "    </body>\n",
    "</html>\n"
   ]
  },
  {
   "cell_type": "code",
   "execution_count": 4,
   "metadata": {},
   "outputs": [
    {
     "data": {
      "text/html": [
       "<!DOCTYPE html>\n",
       "<html>\n",
       "    <head>\n",
       "        <title>Test.html</title>\n",
       "    </head>\n",
       "    <body>\n",
       "        <h4> Adding image to Webpage:</h4>\n",
       "        <img src = bird.jpg>\n",
       "    </body>\n",
       "</html>"
      ],
      "text/plain": [
       "<IPython.core.display.HTML object>"
      ]
     },
     "metadata": {},
     "output_type": "display_data"
    }
   ],
   "source": [
    "%%html\n",
    "<!DOCTYPE html>\n",
    "<html>\n",
    "    <head>\n",
    "        <title>Test.html</title>\n",
    "    </head>\n",
    "    <body>\n",
    "        <h4> Adding image to Webpage:</h4>\n",
    "        <img src = bird.jpg>\n",
    "    </body>\n",
    "</html>"
   ]
  },
  {
   "cell_type": "code",
   "execution_count": 9,
   "metadata": {},
   "outputs": [
    {
     "data": {
      "text/html": [
       "<!DOCTYPE html>\n",
       "<html>\n",
       "    <head>\n",
       "        <title>Test</title>\n",
       "    </head>\n",
       "    <body>\n",
       "        <h4> Adding image to Webpage:</h4>\n",
       "        <img src = bird.jpg alt=\"bird\">\n",
       "    </body>\n",
       "</html>"
      ],
      "text/plain": [
       "<IPython.core.display.HTML object>"
      ]
     },
     "metadata": {},
     "output_type": "display_data"
    }
   ],
   "source": [
    "%%html\n",
    "<!DOCTYPE html>\n",
    "<html>\n",
    "    <head>\n",
    "        <title>Test</title>\n",
    "    </head>\n",
    "    <body>\n",
    "        <h4> Adding image to Webpage:</h4>\n",
    "        <img src = bird.jpg alt=\"bird\">\n",
    "    </body>\n",
    "</html>"
   ]
  },
  {
   "cell_type": "code",
   "execution_count": 17,
   "metadata": {},
   "outputs": [
    {
     "data": {
      "text/html": [
       "<!DOCTYPE html>\n",
       "<html>\n",
       "    <head>\n",
       "        <title>image0.html</title>\n",
       "    </head>\n",
       "    <body>\n",
       "        <h6>Adding an image with defined dimensions:</h6>\n",
       "        <img src = bird.jpg height = '600' width = '600'>\n",
       "    </body>\n",
       "</html>"
      ],
      "text/plain": [
       "<IPython.core.display.HTML object>"
      ]
     },
     "metadata": {},
     "output_type": "display_data"
    }
   ],
   "source": [
    "%%html\n",
    "<!DOCTYPE html>\n",
    "<html>\n",
    "    <head>\n",
    "        <title>image0.html</title>\n",
    "    </head>\n",
    "    <body>\n",
    "        <h6>Adding an image with defined dimensions:</h6>\n",
    "        <img src = bird.jpg height = '600' width = '600'>\n",
    "    </body>\n",
    "</html>\n"
   ]
  },
  {
   "cell_type": "code",
   "execution_count": 18,
   "metadata": {},
   "outputs": [
    {
     "data": {
      "text/html": [
       "<!DOCTYPE html>\n",
       "<html>\n",
       "    <head>\n",
       "        <title>image1.html</title>\n",
       "    </head>\n",
       "    <body>\n",
       "        <h3>Adding an image with defined dimensions:</h3>\n",
       "        <h5>You can specify only the height and allow the browser to define the dimensions of the width</h5>\n",
       "        <img src = bird.jpg height = '50' >\n",
       "    </body>\n",
       "</html>"
      ],
      "text/plain": [
       "<IPython.core.display.HTML object>"
      ]
     },
     "metadata": {},
     "output_type": "display_data"
    }
   ],
   "source": [
    "%%html\n",
    "<!DOCTYPE html>\n",
    "<html>\n",
    "    <head>\n",
    "        <title>image1.html</title>\n",
    "    </head>\n",
    "    <body>\n",
    "        <h3>Adding an image with defined dimensions:</h3>\n",
    "        <h5>You can specify only the height and allow the browser to define the dimensions of the width</h5>\n",
    "        <img src = bird.jpg height = '50' >\n",
    "    </body>\n",
    "</html>\n"
   ]
  },
  {
   "cell_type": "code",
   "execution_count": 16,
   "metadata": {},
   "outputs": [
    {
     "data": {
      "text/html": [
       "<!DOCTYPE html>\n",
       "<html>\n",
       "    <head>\n",
       "        <title>Images</title>\n",
       "    </head>\n",
       "    <body>\n",
       "        <h6>Adding an image with defined dimensions:</h6>\n",
       "        <img src = bird.jpg height = '80%' >\n",
       "    </body>\n",
       "</html>"
      ],
      "text/plain": [
       "<IPython.core.display.HTML object>"
      ]
     },
     "metadata": {},
     "output_type": "display_data"
    }
   ],
   "source": [
    "%%html\n",
    "<!DOCTYPE html>\n",
    "<html>\n",
    "    <head>\n",
    "        <title>Images</title>\n",
    "    </head>\n",
    "    <body>\n",
    "        <h6>Adding an image with defined dimensions:</h6>\n",
    "        <img src = bird.jpg height = '80%' >\n",
    "    </body>\n",
    "</html>\n"
   ]
  },
  {
   "cell_type": "markdown",
   "metadata": {},
   "source": [
    "<!DOCTYPE html>\n",
    "<html>\n",
    "    <head>\n",
    "        <title>Images</title>\n",
    "    </head>\n",
    "    <body>\n",
    "        <h6>Adding an image with defined dimensions:</h6>\n",
    "        <img src = bird.jpg height = '80%' >\n",
    "    </body>\n",
    "</html>\n"
   ]
  },
  {
   "cell_type": "markdown",
   "metadata": {},
   "source": [
    "# Video tags in html"
   ]
  },
  {
   "cell_type": "markdown",
   "metadata": {},
   "source": [
    "<video src=\"https://www.youtube.com/embed/uVYFuOaO4Mg\"></video>"
   ]
  },
  {
   "cell_type": "markdown",
   "metadata": {},
   "source": [
    "<html>:\n",
    "    <head>:\n",
    "        <title> My we page!</title>\n",
    "    </head>\n",
    "    <body>\n",
    "        <video width=\"320\" height=\"240\" controls><source src=\"movie.mp4\" type=\"video/mp4\"></video>\n",
    "        <video width=\"420\" height=\"250\" controls><source src=\"movie.mp4\" type=\"video/mp4\"></video>\n",
    "    </body>\n",
    "</html>\n",
    "\n"
   ]
  },
  {
   "cell_type": "markdown",
   "metadata": {},
   "source": [
    "\n",
    "<html>:\n",
    "    <head>:\n",
    "        <title> My we page!</title>\n",
    "    </head>\n",
    "    <body>\n",
    "        <video width=\"320\" height=\"240\" controls><source src=\"movie.mp4\" type=\"video/mp4\"></video>\n",
    "        <video width=\"420\" height=\"250\" controls><source src=\"movie.mp4\" type=\"video/mp4\"></video>\n",
    "    </body>\n",
    "</html>\n",
    "\n"
   ]
  },
  {
   "cell_type": "code",
   "execution_count": null,
   "metadata": {},
   "outputs": [],
   "source": [
    "# Tables\n",
    "<!DOCTYPE html>\n",
    "<html>\n",
    "    <head>\n",
    "        <title>Presidents</title>\n",
    "        <style>\n",
    "            table {\n",
    "                border: 2px solid black;\n",
    "                border-collapse: collapse;\n",
    "                width: 50%;\n",
    "            }\n",
    "\n",
    "            th, td {\n",
    "                border: 1px solid black;\n",
    "                padding: 5px;\n",
    "                text-align: center;\n",
    "            }\n",
    "\n",
    "            th {\n",
    "                background-color: lightgray;\n",
    "            }\n",
    "        </style>\n",
    "    </head>\n",
    "    <body>\n",
    "        <h1>Presidents</h1>\n",
    "        <table>\n",
    "            <tr>\n",
    "                <th>First Name</th>\n",
    "                <th>Last Name</th>\n",
    "                <th>Years in Office</th>\n",
    "            </tr>\n",
    "            <tr>\n",
    "                <td>George</td>\n",
    "                <td>Washington</td>\n",
    "                <td>1789-1797</td>\n",
    "            </tr>\n",
    "            <tr>\n",
    "                <td>John</td>\n",
    "                <td>Adams</td>\n",
    "                <td>1797-1801</td>\n",
    "            </tr>\n",
    "            <tr>\n",
    "                <td>Thomas</td>\n",
    "                <td>Jefferson</td>\n",
    "                <td>1801-1809</td>\n",
    "            </tr>\n",
    "        </table>\n",
    "    </body>\n",
    "</html>\n"
   ]
  },
  {
   "cell_type": "code",
   "execution_count": 19,
   "metadata": {},
   "outputs": [],
   "source": [
    "import requests\n",
    "def main():\n",
    "    res = requests.get('https://www.google.com/')\n",
    "    return (res.text)\n",
    "if __name__ == \"__main__\":\n",
    "    main()"
   ]
  },
  {
   "cell_type": "code",
   "execution_count": 20,
   "metadata": {
    "collapsed": true,
    "jupyter": {
     "outputs_hidden": true
    }
   },
   "outputs": [
    {
     "data": {
      "text/plain": [
       "'<!doctype html><html itemscope=\"\" itemtype=\"http://schema.org/WebPage\" lang=\"en\"><head><meta content=\"Search the world\\'s information, including webpages, images, videos and more. Google has many special features to help you find exactly what you\\'re looking for.\" name=\"description\"><meta content=\"noodp\" name=\"robots\"><meta content=\"text/html; charset=UTF-8\" http-equiv=\"Content-Type\"><meta content=\"/images/branding/googleg/1x/googleg_standard_color_128dp.png\" itemprop=\"image\"><title>Google</title><script nonce=\"mL365bK9uH8FF9KASrQjig==\">(function(){window.google={kEI:\\'y1F8W67aNOqF0wK4l6SYAg\\',kEXPI:\\'0,1353746,58,1654,304,582,435,281,2349,730,326,185,548,119,27,222,2,36,53,56,2338620,156,32,329294,1294,12383,2349,2506,18501,14191,15247,867,316,8616,1829,1402,6381,3335,2,2,6801,369,1100,438,1776,1262,1052,3191,224,843,173,1199,133,130,5107,575,1119,2,579,727,606,1825,59,2,1,3,1297,1705,7,1376,505,732,2094,658,636,8,275,27,1267,774,1232,883,137,279,2,841,283,1413,1924,525,22,599,5,2,2,743,1681,2,65,3,774,858,614,283,2096,296,1344,35,34,941,42,67,334,130,630,480,78,156,386,10,1001,81,7,1,2,25,463,243,222,110,45,29,983,6,406,451,7,62,203,1582,99,429,241,172,43,321,910,11,1170,217,263,36,10,318,2,157,64,115,77,335,125,305,25,796,202,5,156,261,233,295,4,83,361,251,44,42,3,300,113,26,64,1254,303,148,4,24,181,107,105,2,28,1,514,2316878,3685997,2554,8797786,4,1572,549,332,445,1,2,1,1,78,1,900,575,14,307,1,8,1,2,1,1,2130,1,1,1,1,1,349,22,9,34,1,8,4,24,22309350\\',authuser:0,kscs:\\'c9c918f0_y1F8W67aNOqF0wK4l6SYAg\\',kGL:\\'US\\'};google.kHL=\\'en\\';})();google.time=function(){return(new Date).getTime()};(function(){google.lc=[];google.li=0;google.getEI=function(a){for(var b;a&&(!a.getAttribute||!(b=a.getAttribute(\"eid\")));)a=a.parentNode;return b||google.kEI};google.getLEI=function(a){for(var b=null;a&&(!a.getAttribute||!(b=a.getAttribute(\"leid\")));)a=a.parentNode;return b};google.https=function(){return\"https:\"==window.location.protocol};google.ml=function(){return null};google.wl=function(a,b){try{google.ml(Error(a),!1,b)}catch(d){}};google.log=function(a,b,d,c,g){if(a=google.logUrl(a,b,d,c,g)){b=new Image;var e=google.lc,f=google.li;e[f]=b;b.onerror=b.onload=b.onabort=function(){delete e[f]};google.vel&&google.vel.lu&&google.vel.lu(a);b.src=a;google.li=f+1}};google.logUrl=function(a,b,d,c,g){var e=\"\",f=google.ls||\"\";d||-1!=b.search(\"&ei=\")||(e=\"&ei=\"+google.getEI(c),-1==b.search(\"&lei=\")&&(c=google.getLEI(c))&&(e+=\"&lei=\"+c));c=\"\";!d&&google.cshid&&-1==b.search(\"&cshid=\")&&\"slh\"!=a&&(c=\"&cshid=\"+google.cshid);a=d||\"/\"+(g||\"gen_204\")+\"?atyp=i&ct=\"+a+\"&cad=\"+b+e+f+\"&zx=\"+google.time()+c;/^http:/i.test(a)&&google.https()&&(google.ml(Error(\"a\"),!1,{src:a,glmm:1}),a=\"\");return a};}).call(this);(function(){google.y={};google.x=function(a,b){if(a)var c=a.id;else{do c=Math.random();while(google.y[c])}google.y[c]=[a,b];return!1};google.lm=[];google.plm=function(a){google.lm.push.apply(google.lm,a)};google.lq=[];google.load=function(a,b,c){google.lq.push([[a],b,c])};google.loadAll=function(a,b){google.lq.push([a,b])};}).call(this);google.f={};</script><script nonce=\"mL365bK9uH8FF9KASrQjig==\">var a=window.location,b=a.href.indexOf(\"#\");if(0<=b){var c=a.href.substring(b+1);/(^|&)q=/.test(c)&&-1==c.indexOf(\"#\")&&a.replace(\"/search?\"+c.replace(/(^|&)fp=[^&]*/g,\"\")+\"&cad=h\")};</script><style>#gbar,#guser{font-size:13px;padding-top:1px !important;}#gbar{height:22px}#guser{padding-bottom:7px !important;text-align:right}.gbh,.gbd{border-top:1px solid #c9d7f1;font-size:1px}.gbh{height:0;position:absolute;top:24px;width:100%}@media all{.gb1{height:22px;margin-right:.5em;vertical-align:top}#gbar{float:left}}a.gb1,a.gb4{text-decoration:underline !important}a.gb1,a.gb4{color:#00c !important}.gbi .gb4{color:#dd8e27 !important}.gbf .gb4{color:#900 !important}\\n</style><style>body,td,a,p,.h{font-family:arial,sans-serif}body{margin:0;overflow-y:scroll}#gog{padding:3px 8px 0}td{line-height:.8em}.gac_m td{line-height:17px}form{margin-bottom:20px}.h{color:#36c}.q{color:#00c}.ts td{padding:0}.ts{border-collapse:collapse}em{font-weight:bold;font-style:normal}.lst{height:25px;width:496px}.gsfi,.lst{font:18px arial,sans-serif}.gsfs{font:17px arial,sans-serif}.ds{display:inline-box;display:inline-block;margin:3px 0 4px;margin-left:4px}input{font-family:inherit}a.gb1,a.gb2,a.gb3,a.gb4{color:#11c !important}body{background:#fff;color:black}a{color:#11c;text-decoration:none}a:hover,a:active{text-decoration:underline}.fl a{color:#36c}a:visited{color:#551a8b}a.gb1,a.gb4{text-decoration:underline}a.gb3:hover{text-decoration:none}#ghead a.gb2:hover{color:#fff !important}.sblc{padding-top:5px}.sblc a{display:block;margin:2px 0;margin-left:13px;font-size:11px}.lsbb{background:#eee;border:solid 1px;border-color:#ccc #999 #999 #ccc;height:30px}.lsbb{display:block}.ftl,#fll a{display:inline-block;margin:0 12px}.lsb{background:url(/images/nav_logo229.png) 0 -261px repeat-x;border:none;color:#000;cursor:pointer;height:30px;margin:0;outline:0;font:15px arial,sans-serif;vertical-align:top}.lsb:active{background:#ccc}.lst:focus{outline:none}</style><script nonce=\"mL365bK9uH8FF9KASrQjig==\"></script><link href=\"/images/branding/product/ico/googleg_lodp.ico\" rel=\"shortcut icon\"></head><body bgcolor=\"#fff\"><script nonce=\"mL365bK9uH8FF9KASrQjig==\">(function(){var src=\\'/images/nav_logo229.png\\';var iesg=false;document.body.onload = function(){window.n && window.n();if (document.images){new Image().src=src;}\\nif (!iesg){document.f&&document.f.q.focus();document.gbqf&&document.gbqf.q.focus();}\\n}\\n})();</script><div id=\"mngb\"> <div id=gbar><nobr><b class=gb1>Search</b> <a class=gb1 href=\"https://www.google.com/imghp?hl=en&tab=wi\">Images</a> <a class=gb1 href=\"https://maps.google.com/maps?hl=en&tab=wl\">Maps</a> <a class=gb1 href=\"https://play.google.com/?hl=en&tab=w8\">Play</a> <a class=gb1 href=\"https://www.youtube.com/?gl=US&tab=w1\">YouTube</a> <a class=gb1 href=\"https://news.google.com/nwshp?hl=en&tab=wn\">News</a> <a class=gb1 href=\"https://mail.google.com/mail/?tab=wm\">Gmail</a> <a class=gb1 href=\"https://drive.google.com/?tab=wo\">Drive</a> <a class=gb1 style=\"text-decoration:none\" href=\"https://www.google.com/intl/en/options/\"><u>More</u> &raquo;</a></nobr></div><div id=guser width=100%><nobr><span id=gbn class=gbi></span><span id=gbf class=gbf></span><span id=gbe></span><a href=\"http://www.google.com/history/optout?hl=en\" class=gb4>Web History</a> | <a  href=\"/preferences?hl=en\" class=gb4>Settings</a> | <a target=_top id=gb_70 href=\"https://accounts.google.com/ServiceLogin?hl=en&passive=true&continue=https://www.google.com/\" class=gb4>Sign in</a></nobr></div><div class=gbh style=left:0></div><div class=gbh style=right:0></div> </div><center><br clear=\"all\" id=\"lgpd\"><div id=\"lga\"><img alt=\"Google\" height=\"92\" src=\"/images/branding/googlelogo/1x/googlelogo_white_background_color_272x92dp.png\" style=\"padding:28px 0 14px\" width=\"272\" id=\"hplogo\" onload=\"window.lol&&lol()\"><br><br></div><form action=\"/search\" name=\"f\"><table cellpadding=\"0\" cellspacing=\"0\"><tr valign=\"top\"><td width=\"25%\">&nbsp;</td><td align=\"center\" nowrap=\"\"><input name=\"ie\" value=\"ISO-8859-1\" type=\"hidden\"><input value=\"en\" name=\"hl\" type=\"hidden\"><input name=\"source\" type=\"hidden\" value=\"hp\"><input name=\"biw\" type=\"hidden\"><input name=\"bih\" type=\"hidden\"><div class=\"ds\" style=\"height:32px;margin:4px 0\"><input style=\"color:#000;margin:0;padding:5px 8px 0 6px;vertical-align:top\" autocomplete=\"off\" class=\"lst\" value=\"\" title=\"Google Search\" maxlength=\"2048\" name=\"q\" size=\"57\"></div><br style=\"line-height:0\"><span class=\"ds\"><span class=\"lsbb\"><input class=\"lsb\" value=\"Google Search\" name=\"btnG\" type=\"submit\"></span></span><span class=\"ds\"><span class=\"lsbb\"><input class=\"lsb\" value=\"I\\'m Feeling Lucky\" name=\"btnI\" onclick=\"if(this.form.q.value)this.checked=1; else top.location=\\'/doodles/\\'\" type=\"submit\"></span></span></td><td class=\"fl sblc\" align=\"left\" nowrap=\"\" width=\"25%\"><a href=\"/advanced_search?hl=en&amp;authuser=0\">Advanced search</a><a href=\"/language_tools?hl=en&amp;authuser=0\">Language tools</a></td></tr></table><input id=\"gbv\" name=\"gbv\" type=\"hidden\" value=\"1\"></form><div id=\"gac_scont\"></div><div style=\"font-size:83%;min-height:3.5em\"><br></div><span id=\"footer\"><div style=\"font-size:10pt\"><div style=\"margin:19px auto;text-align:center\" id=\"fll\"><a href=\"/intl/en/ads/\">Advertising\\xa0Programs</a><a href=\"/services/\">Business Solutions</a><a href=\"https://plus.google.com/116899029375914044550\" rel=\"publisher\">+Google</a><a href=\"/intl/en/about.html\">About Google</a></div></div><p style=\"color:#767676;font-size:8pt\">&copy; 2018 - <a href=\"/intl/en/policies/privacy/\">Privacy</a> - <a href=\"/intl/en/policies/terms/\">Terms</a></p></span></center><script nonce=\"mL365bK9uH8FF9KASrQjig==\">(function(){window.google.cdo={height:0,width:0};(function(){var a=window.innerWidth,b=window.innerHeight;if(!a||!b){var c=window.document,d=\"CSS1Compat\"==c.compatMode?c.documentElement:c.body;a=d.clientWidth;b=d.clientHeight}a&&b&&(a!=google.cdo.width||b!=google.cdo.height)&&google.log(\"\",\"\",\"/client_204?&atyp=i&biw=\"+a+\"&bih=\"+b+\"&ei=\"+google.kEI);}).call(this);})();</script><div id=\"xjsd\"></div><div id=\"xjsi\"><script nonce=\"mL365bK9uH8FF9KASrQjig==\">(function(){function c(b){window.setTimeout(function(){var a=document.createElement(\"script\");a.src=b;google.timers&&google.timers.load.t&&google.tick&&google.tick(\"load\",{gen204:\"xjsls\",clearcut:31});document.getElementById(\"xjsd\").appendChild(a)},0)}google.dljp=function(b,a){google.xjsu=b;c(a)};google.dlj=c;}).call(this);if(!google.xjs){window._=window._||{};window._DumpException=window._._DumpException=function(e){throw e};window._F_installCss=window._._F_installCss=function(c){};google.dljp(\\'/xjs/_/js/k\\\\x3dxjs.hp.en_US.bxcHOSGwnb0.O/m\\\\x3dsb_he,d/am\\\\x3dpoKxAQ/rt\\\\x3dj/d\\\\x3d1/rs\\\\x3dACT90oFLdgO8kgMsA4fMeRvnMeIrbqIUxg\\',\\'/xjs/_/js/k\\\\x3dxjs.hp.en_US.bxcHOSGwnb0.O/m\\\\x3dsb_he,d/am\\\\x3dpoKxAQ/rt\\\\x3dj/d\\\\x3d1/rs\\\\x3dACT90oFLdgO8kgMsA4fMeRvnMeIrbqIUxg\\');google.xjs=1;}google.pmc={\"sb_he\":{\"agen\":true,\"cgen\":true,\"client\":\"heirloom-hp\",\"dh\":true,\"dhqt\":true,\"ds\":\"\",\"ffql\":\"en\",\"fl\":true,\"host\":\"google.com\",\"isbh\":28,\"jsonp\":true,\"msgs\":{\"cibl\":\"Clear Search\",\"dym\":\"Did you mean:\",\"lcky\":\"I\\\\u0026#39;m Feeling Lucky\",\"lml\":\"Learn more\",\"oskt\":\"Input tools\",\"psrc\":\"This search was removed from your \\\\u003Ca href=\\\\\"/history\\\\\"\\\\u003EWeb History\\\\u003C/a\\\\u003E\",\"psrl\":\"Remove\",\"sbit\":\"Search by image\",\"srch\":\"Google Search\"},\"nds\":true,\"ovr\":{},\"pq\":\"\",\"refpd\":true,\"rfs\":[],\"sbpl\":24,\"sbpr\":24,\"scd\":10,\"sce\":5,\"stok\":\"FXVuxA2KG0HSPZmDMlk2apNQFm8\",\"uhde\":false},\"d\":{},\"pfgvMg\":{},\"ZI/YVQ\":{},\"Qnk92g\":{},\"U5B21g\":{},\"DPBNMg\":{},\"YFCs/g\":{}};google.x(null,function(){});(function(){var r=[];google.plm(r);})();(function(){var m=[]\\n;google.jsc && google.jsc.m(m);})();</script></div></body></html>'"
      ]
     },
     "execution_count": 20,
     "metadata": {},
     "output_type": "execute_result"
    }
   ],
   "source": [
    "main()"
   ]
  },
  {
   "cell_type": "markdown",
   "metadata": {},
   "source": [
    "### Adding links to a webpage"
   ]
  },
  {
   "cell_type": "code",
   "execution_count": null,
   "metadata": {},
   "outputs": [],
   "source": [
    "<!DOCTYPE html>\n",
    "<html>\n",
    "    <head>\n",
    "        <title>My web page!</title>\n",
    "    </head>\n",
    "    <body>\n",
    "        <a href = \"hello.html\">Click here! </a> \n",
    "    </body>\n",
    "</html>"
   ]
  },
  {
   "cell_type": "markdown",
   "metadata": {},
   "source": [
    "You can not only link to a different html file, you can also link to a different web page, say google"
   ]
  },
  {
   "cell_type": "code",
   "execution_count": null,
   "metadata": {},
   "outputs": [],
   "source": [
    "<!DOCTYPE html>\n",
    "<html>\n",
    "    <head>\n",
    "        <title>My web page!</title>\n",
    "    </head>\n",
    "    <body>\n",
    "        <a href = \"https://google.com\">Click here! </a> \n",
    "    </body>\n",
    "</html>"
   ]
  },
  {
   "cell_type": "markdown",
   "metadata": {},
   "source": [
    "You can also link to different parts of the same document"
   ]
  },
  {
   "cell_type": "markdown",
   "metadata": {},
   "source": [
    "<!DOCTYPE html>\n",
    "<html>\n",
    "    <head>\n",
    "        <title>Link within doc</title>\n",
    "    </head>\n",
    "    <body>\n",
    "        <h2>Table of contents</h2>\n",
    "        <ul>\n",
    "            <li><a href = \"#Section1\">Section 1</a></li>\n",
    "            <li><a href = \"#Section2\">Section 2</a></li>\n",
    "            <li><a href = \"#Section3\">Section 3</a></li>\n",
    "        </ul>\n",
    "        <h2 id = \"section1\">Section 1</h2>\n",
    "        <p>\n",
    "            this is just the begining \n",
    "        </p>\n",
    "        <h2 id = \"section2\">Section 2</h2>\n",
    "        <p>\n",
    "            Stay awake for the end is nigh\n",
    "        </p>\n",
    "        <h2 id = \"section3\">Section 3</h2>\n",
    "        <p>\n",
    "            You will not see it coming. but it will surely com\n",
    "        </p>\n",
    "    </body>\n",
    "</html>"
   ]
  },
  {
   "cell_type": "markdown",
   "metadata": {},
   "source": [
    "### Adding a form"
   ]
  },
  {
   "cell_type": "code",
   "execution_count": null,
   "metadata": {},
   "outputs": [],
   "source": [
    "<!DOCTYPE html>\n",
    "<html>\n",
    "    <head>\n",
    "        <title>My Web Page!</title>\n",
    "    </head>\n",
    "    <body>\n",
    "        <form>\n",
    "\n",
    "            <div>\n",
    "                <input name=\"name\" type=\"text\" placeholder=\"Name\">\n",
    "                <input name=\"password\" type=\"password\" placeholder=\"Password\">\n",
    "            </div>\n",
    "\n",
    "            <div>\n",
    "                Favorite color?\n",
    "                <input name=\"color\" type=\"radio\" value=\"red\"> Red\n",
    "                <input name=\"color\" type=\"radio\" value=\"green\"> Green\n",
    "                <input name=\"color\" type=\"radio\" value=\"blue\"> Blue\n",
    "                <input name=\"color\" type=\"radio\" value=\"other\"> Other\n",
    "            </div>\n",
    "\n",
    "            <div>\n",
    "                <input name=\"country\" list=\"countries\" placeholder=\"Country\">\n",
    "                <datalist id=\"countries\">\n",
    "                    <option value=\"Afghanistan\">\n",
    "                    <option value=\"Albania\">\n",
    "                    <option value=\"Algeria\">\n",
    "                    <option value=\"Andorra\">\n",
    "                    <option value=\"Angola\">\n",
    "                    <option value=\"Antigua &amp; Deps\">\n",
    "                    <option value=\"Argentina\">\n",
    "                    <option value=\"Armenia\">\n",
    "                    <option value=\"Australia\">\n",
    "                    <option value=\"Austria\">\n",
    "                    <option value=\"Azerbaijan\">\n",
    "                    <option value=\"Bahamas\">\n",
    "                    <option value=\"Bahrain\">\n",
    "                    <option value=\"Bangladesh\">\n",
    "                    <option value=\"Barbados\">\n",
    "                    <option value=\"Belarus\">\n",
    "                    <option value=\"Belgium\">\n",
    "                    <option value=\"Belize\">\n",
    "                    <option value=\"Benin\">\n",
    "                    <option value=\"Bhutan\">\n",
    "                    <option value=\"Bolivia\">\n",
    "                    <option value=\"Bosnia Herzegovina\">\n",
    "                    <option value=\"Botswana\">\n",
    "                    <option value=\"Brazil\">\n",
    "                    <option value=\"Brunei\">\n",
    "                    <option value=\"Bulgaria\">\n",
    "                    <option value=\"Burkina\">\n",
    "                    <option value=\"Burundi\">\n",
    "                    <option value=\"Cambodia\">\n",
    "                    <option value=\"Cameroon\">\n",
    "                    <option value=\"Canada\">\n",
    "                    <option value=\"Cape Verde\">\n",
    "                    <option value=\"Central African Rep\">\n",
    "                    <option value=\"Chad\">\n",
    "                    <option value=\"Chile\">\n",
    "                    <option value=\"China\">\n",
    "                    <option value=\"Colombia\">\n",
    "                    <option value=\"Comoros\">\n",
    "                    <option value=\"Congo\">\n",
    "                    <option value=\"Congo (Democratic Rep)\">\n",
    "                    <option value=\"Costa Rica\">\n",
    "                    <option value=\"Croatia\">\n",
    "                    <option value=\"Cuba\">\n",
    "                    <option value=\"Cyprus\">\n",
    "                    <option value=\"Czech Republic\">\n",
    "                    <option value=\"Denmark\">\n",
    "                    <option value=\"Djibouti\">\n",
    "                    <option value=\"Dominica\">\n",
    "                    <option value=\"Dominican Republic\">\n",
    "                    <option value=\"East Timor\">\n",
    "                    <option value=\"Ecuador\">\n",
    "                    <option value=\"Egypt\">\n",
    "                    <option value=\"El Salvador\">\n",
    "                    <option value=\"Equatorial Guinea\">\n",
    "                    <option value=\"Eritrea\">\n",
    "                    <option value=\"Estonia\">\n",
    "                    <option value=\"Ethiopia\">\n",
    "                    <option value=\"Fiji\">\n",
    "                    <option value=\"Finland\">\n",
    "                    <option value=\"France\">\n",
    "                    <option value=\"Gabon\">\n",
    "                    <option value=\"Gambia\">\n",
    "                    <option value=\"Georgia\">\n",
    "                    <option value=\"Germany\">\n",
    "                    <option value=\"Ghana\">\n",
    "                    <option value=\"Greece\">\n",
    "                    <option value=\"Grenada\">\n",
    "                    <option value=\"Guatemala\">\n",
    "                    <option value=\"Guinea\">\n",
    "                    <option value=\"Guinea-Bissau\">\n",
    "                    <option value=\"Guyana\">\n",
    "                    <option value=\"Haiti\">\n",
    "                    <option value=\"Honduras\">\n",
    "                    <option value=\"Hungary\">\n",
    "                    <option value=\"Iceland\">\n",
    "                    <option value=\"India\">\n",
    "                    <option value=\"Indonesia\">\n",
    "                    <option value=\"Iran\">\n",
    "                    <option value=\"Iraq\">\n",
    "                    <option value=\"Ireland (Republic)\">\n",
    "                    <option value=\"Israel\">\n",
    "                    <option value=\"Italy\">\n",
    "                    <option value=\"Ivory Coast\">\n",
    "                    <option value=\"Jamaica\">\n",
    "                    <option value=\"Japan\">\n",
    "                    <option value=\"Jordan\">\n",
    "                    <option value=\"Kazakhstan\">\n",
    "                    <option value=\"Kenya\">\n",
    "                    <option value=\"Kiribati\">\n",
    "                    <option value=\"Korea North\">\n",
    "                    <option value=\"Korea South\">\n",
    "                    <option value=\"Kosovo\">\n",
    "                    <option value=\"Kuwait\">\n",
    "                    <option value=\"Kyrgyzstan\">\n",
    "                    <option value=\"Laos\">\n",
    "                    <option value=\"Latvia\">\n",
    "                    <option value=\"Lebanon\">\n",
    "                    <option value=\"Lesotho\">\n",
    "                    <option value=\"Liberia\">\n",
    "                    <option value=\"Libya\">\n",
    "                    <option value=\"Liechtenstein\">\n",
    "                    <option value=\"Lithuania\">\n",
    "                    <option value=\"Luxembourg\">\n",
    "                    <option value=\"Macedonia\">\n",
    "                    <option value=\"Madagascar\">\n",
    "                    <option value=\"Malawi\">\n",
    "                    <option value=\"Malaysia\">\n",
    "                    <option value=\"Maldives\">\n",
    "                    <option value=\"Mali\">\n",
    "                    <option value=\"Malta\">\n",
    "                    <option value=\"Marshall Islands\">\n",
    "                    <option value=\"Mauritania\">\n",
    "                    <option value=\"Mauritius\">\n",
    "                    <option value=\"Mexico\">\n",
    "                    <option value=\"Micronesia\">\n",
    "                    <option value=\"Moldova\">\n",
    "                    <option value=\"Monaco\">\n",
    "                    <option value=\"Mongolia\">\n",
    "                    <option value=\"Montenegro\">\n",
    "                    <option value=\"Morocco\">\n",
    "                    <option value=\"Mozambique\">\n",
    "                    <option value=\"Myanmar, (Burma)\">\n",
    "                    <option value=\"Namibia\">\n",
    "                    <option value=\"Nauru\">\n",
    "                    <option value=\"Nepal\">\n",
    "                    <option value=\"Netherlands\">\n",
    "                    <option value=\"New Zealand\">\n",
    "                    <option value=\"Nicaragua\">\n",
    "                    <option value=\"Niger\">\n",
    "                    <option value=\"Nigeria\">\n",
    "                    <option value=\"Norway\">\n",
    "                    <option value=\"Oman\">\n",
    "                    <option value=\"Pakistan\">\n",
    "                    <option value=\"Palau\">\n",
    "                    <option value=\"Panama\">\n",
    "                    <option value=\"Papua New Guinea\">\n",
    "                    <option value=\"Paraguay\">\n",
    "                    <option value=\"Peru\">\n",
    "                    <option value=\"Philippines\">\n",
    "                    <option value=\"Poland\">\n",
    "                    <option value=\"Portugal\">\n",
    "                    <option value=\"Qatar\">\n",
    "                    <option value=\"Romania\">\n",
    "                    <option value=\"Russian Federation\">\n",
    "                    <option value=\"Rwanda\">\n",
    "                    <option value=\"St Kitts &amp; Nevis\">\n",
    "                    <option value=\"St Lucia\">\n",
    "                    <option value=\"Saint Vincent &amp; the Grenadines\">\n",
    "                    <option value=\"Samoa\">\n",
    "                    <option value=\"San Marino\">\n",
    "                    <option value=\"Sao Tome &amp; Principe\">\n",
    "                    <option value=\"Saudi Arabia\">\n",
    "                    <option value=\"Senegal\">\n",
    "                    <option value=\"Serbia\">\n",
    "                    <option value=\"Seychelles\">\n",
    "                    <option value=\"Sierra Leone\">\n",
    "                    <option value=\"Singapore\">\n",
    "                    <option value=\"Slovakia\">\n",
    "                    <option value=\"Slovenia\">\n",
    "                    <option value=\"Solomon Islands\">\n",
    "                    <option value=\"Somalia\">\n",
    "                    <option value=\"South Africa\">\n",
    "                    <option value=\"South Sudan\">\n",
    "                    <option value=\"Spain\">\n",
    "                    <option value=\"Sri Lanka\">\n",
    "                    <option value=\"Sudan\">\n",
    "                    <option value=\"Suriname\">\n",
    "                    <option value=\"Swaziland\">\n",
    "                    <option value=\"Sweden\">\n",
    "                    <option value=\"Switzerland\">\n",
    "                    <option value=\"Syria\">\n",
    "                    <option value=\"Taiwan\">\n",
    "                    <option value=\"Tajikistan\">\n",
    "                    <option value=\"Tanzania\">\n",
    "                    <option value=\"Thailand\">\n",
    "                    <option value=\"Togo\">\n",
    "                    <option value=\"Tonga\">\n",
    "                    <option value=\"Trinidad &amp; Tobago\">\n",
    "                    <option value=\"Tunisia\">\n",
    "                    <option value=\"Turkey\">\n",
    "                    <option value=\"Turkmenistan\">\n",
    "                    <option value=\"Tuvalu\">\n",
    "                    <option value=\"Uganda\">\n",
    "                    <option value=\"Ukraine\">\n",
    "                    <option value=\"United Arab Emirates\">\n",
    "                    <option value=\"United Kingdom\">\n",
    "                    <option value=\"United States\">\n",
    "                    <option value=\"Uruguay\">\n",
    "                    <option value=\"Uzbekistan\">\n",
    "                    <option value=\"Vanuatu\">\n",
    "                    <option value=\"Vatican City\">\n",
    "                    <option value=\"Venezuela\">\n",
    "                    <option value=\"Vietnam\">\n",
    "                    <option value=\"Yemen\">\n",
    "                    <option value=\"Zambia\">\n",
    "                    <option value=\"Zimbabwe\">\n",
    "                </datalist>\n",
    "            </div>\n",
    "\n",
    "        </form>\n",
    "    </body>\n",
    "</html>\n"
   ]
  },
  {
   "cell_type": "markdown",
   "metadata": {},
   "source": [
    "# CSS"
   ]
  },
  {
   "cell_type": "markdown",
   "metadata": {},
   "source": [
    "Adding CSS code to the header of the html code allows for more flexibility, order and precise styling"
   ]
  },
  {
   "cell_type": "markdown",
   "metadata": {},
   "source": [
    "<html>\n",
    "    <head>\n",
    "        <title>My web page</title>\n",
    "        <style>\n",
    "            h1, h2 {\n",
    "            color: red;\n",
    "            }\n",
    "        </style>\n",
    "   </head>\n",
    "   <body>\n",
    "        <h1>Big headline</h1>\n",
    "        <h2>Smaller Headline</h2>\n",
    "   </body>\n",
    "</html>"
   ]
  },
  {
   "cell_type": "markdown",
   "metadata": {},
   "source": [
    "### `ol li ` All the list elements inside the odered list. Color red. So even though there are list elemnets that are within the unodered list, since the unodered list is nested inside the ordered list, it is still colored red."
   ]
  },
  {
   "cell_type": "markdown",
   "metadata": {},
   "source": [
    "<html>\n",
    "    <head>\n",
    "        <title>My web page</title>\n",
    "        <style>\n",
    "            ol li { \n",
    "            color: red;\n",
    "            }\n",
    "        </style>\n",
    "    </head>\n",
    "    <body>\n",
    "        <ol>\n",
    "            <li>List item one</li>\n",
    "            <li>List item two</li>\n",
    "            <ul>\n",
    "                <li>List item one</li>\n",
    "                <li>List item two</li>\n",
    "            </ul>\n",
    "            <li>List item three</li>\n",
    "        </ol>\n",
    "    </body>\n",
    "</html>"
   ]
  },
  {
   "cell_type": "markdown",
   "metadata": {},
   "source": [
    "#### The added unordered list, not nested within the ordered list does not get the same color formating"
   ]
  },
  {
   "cell_type": "markdown",
   "metadata": {},
   "source": [
    "<html>\n",
    "    <head>\n",
    "        <title>My web page</title>\n",
    "        <style>\n",
    "            ol li { \n",
    "            color: red;\n",
    "            }\n",
    "        </style>\n",
    "    </head>\n",
    "    <body>\n",
    "        <ol>\n",
    "            <li>List item one</li>\n",
    "            <li>List item two</li>\n",
    "            <ul>\n",
    "                <li>List item one</li>\n",
    "                <li>List item two</li>\n",
    "            </ul>\n",
    "            <li>List item three</li>\n",
    "        </ol>\n",
    "        <ul>\n",
    "            <li>Second list item </li>\n",
    "            <li>Another list item </li>\n",
    "        </ul>\n",
    "    </body>\n",
    "</html>"
   ]
  },
  {
   "cell_type": "markdown",
   "metadata": {},
   "source": [
    "####  `ol > li` only immediate descendants of `ol` is affected. The children only and not the grand children\n",
    "<html>\n",
    "    <head>\n",
    "        <title>My web page</title>\n",
    "        <style>\n",
    "            ol > li { \n",
    "            color: red;\n",
    "            }\n",
    "        </style>\n",
    "    </head>\n",
    "    <body>\n",
    "        <ol>\n",
    "            <li>List item one</li>\n",
    "            <li>List item two</li>\n",
    "            <ul>\n",
    "                <li>List item one</li>\n",
    "                <li>List item two</li>\n",
    "            </ul>\n",
    "            <li>List item three</li>\n",
    "        </ol>\n",
    "        <ul>\n",
    "            <li>Second list item </li>\n",
    "            <li>Another list item </li>\n",
    "        </ul>\n",
    "    </body>\n",
    "</html>"
   ]
  },
  {
   "cell_type": "markdown",
   "metadata": {},
   "source": [
    "### Styling using CSS can also be done based on the attributes of sections of html file. eg. text, number etc.\n",
    "<html>\n",
    "    <head>\n",
    "        <title>My web page</title>\n",
    "        <style>\n",
    "            input[type = text] {\n",
    "            background-color: red;}\n",
    "            \n",
    "            input[type = number] {\n",
    "            background-color: green;}\n",
    "            \n",
    "        </style>\n",
    "    </head>\n",
    "    <body>\n",
    "        <form>\n",
    "            <input name = 'name' type = 'text' placeholder = 'First name'>\n",
    "            <input name = 'name' type = 'text' placeholder = 'Last name'>\n",
    "            <input name = 'name' type = 'number' placeholder = 'Age'>\n",
    "        </form>\n",
    "    </body>\n",
    "</html>"
   ]
  },
  {
   "cell_type": "markdown",
   "metadata": {},
   "source": [
    "### seudo class\n",
    "Special state of a html file, behavior when hovering. \n",
    "#### The code below changes the background-color of a button when the cursor is hovering over it. It also defines the formating of the button\n",
    "<html>\n",
    "    <head>\n",
    "        <title>My page</title>\n",
    "        <style>\n",
    "            button {\n",
    "            width: 200px;\n",
    "            height: 50px;\n",
    "            font-size: 24px;\n",
    "            background-color: orange;\n",
    "            }\n",
    "            \n",
    "            button:hover {\n",
    "            background-color: magenta;\n",
    "            }\n",
    "        </style>\n",
    "    </head>\n",
    "    <body>\n",
    "        <button>Click me!</button>\n",
    "    </body>\n",
    "</html>\n"
   ]
  },
  {
   "cell_type": "markdown",
   "metadata": {},
   "source": [
    "### `::` takes a specific tag e.g `a` and applies formating before or after it\n",
    "\n",
    "<html>\n",
    "    <head>\n",
    "        <title>My Web Page!</title>\n",
    "        <style>\n",
    "            a::before {\n",
    "                content: \"\\21d2  Click here: \";\n",
    "                font-weight: bold;\n",
    "            }\n",
    "        </style>\n",
    "    </head>\n",
    "    <body>\n",
    "        <ul>\n",
    "            <li><a href=\"#\">one link</a></li>\n",
    "            <li><a href=\"#\">another link</a></li>\n",
    "            <li><a href=\"#\">third link</a></li>\n",
    "        </ul>\n",
    "    </body>\n",
    "</html>"
   ]
  },
  {
   "cell_type": "markdown",
   "metadata": {},
   "source": [
    "### `::` applied to after\n",
    "<html>\n",
    "    <head>\n",
    "        <title>My Web Page!</title>\n",
    "        <style>\n",
    "            a::after {\n",
    "                content: \"\\21d2  Click here: \";\n",
    "                font-weight: bold;\n",
    "            }\n",
    "        </style>\n",
    "    </head>\n",
    "    <body>\n",
    "        <ul>\n",
    "            <li><a href=\"#\">one link</a></li>\n",
    "            <li><a href=\"#\">another link</a></li>\n",
    "            <li><a href=\"#\">third link</a></li>\n",
    "        </ul>\n",
    "    </body>\n",
    "</html>"
   ]
  },
  {
   "cell_type": "markdown",
   "metadata": {},
   "source": [
    "# Resposive Design\n",
    "making our website responsive irrespective of the platform, screen size etc. Sections of the page should be able to adapt to different platform. Media Queries, viewport, flexbox, grid"
   ]
  },
  {
   "cell_type": "markdown",
   "metadata": {},
   "source": [
    "#### Screen-only can be used to prevent printing of certain docs from screen. `@media` create a media query applied to `print`. `.screen-only`  anything with class `screen-only`. When you try to print page, last paragraph won't display in preview\n",
    "<html>\n",
    "    <head>\n",
    "        <title>My web page!</title>\n",
    "        <style>\n",
    "            @media print{\n",
    "                .screen-only{\n",
    "                    display: none;\n",
    "                    }\n",
    "            }\n",
    "        </style>\n",
    "    </head>\n",
    "    <body>\n",
    "        <p>this is a paragraph</p>\n",
    "        <p>this is another paragraph</p>\n",
    "        <p class = \"screen-only\"> This paragraph will not appear when you print</p>\n",
    "    </body>\n",
    "</html>"
   ]
  },
  {
   "cell_type": "markdown",
   "metadata": {},
   "source": [
    "# FLASK"
   ]
  },
  {
   "cell_type": "code",
   "execution_count": 3,
   "metadata": {},
   "outputs": [
    {
     "name": "stdout",
     "output_type": "stream",
     "text": [
      "['peter' 'sam']\n"
     ]
    }
   ],
   "source": [
    "import numpy as np\n",
    "names = ['sam', 'james', 'john', 'peter']\n",
    "print(np.random.choice(names, size = 2))"
   ]
  },
  {
   "cell_type": "code",
   "execution_count": 5,
   "metadata": {},
   "outputs": [],
   "source": [
    "s = set() # A set unlike a list, or dictionary is a turple with distinct values\n",
    "for i in range (5):\n",
    "    s.add(i)"
   ]
  },
  {
   "cell_type": "code",
   "execution_count": 6,
   "metadata": {},
   "outputs": [
    {
     "name": "stdout",
     "output_type": "stream",
     "text": [
      "{0, 1, 2, 3, 4}\n"
     ]
    }
   ],
   "source": [
    "print (s)"
   ]
  },
  {
   "cell_type": "markdown",
   "metadata": {},
   "source": [
    "### Classes"
   ]
  },
  {
   "cell_type": "code",
   "execution_count": 9,
   "metadata": {},
   "outputs": [
    {
     "name": "stdout",
     "output_type": "stream",
     "text": [
      "3\n",
      "5\n"
     ]
    }
   ],
   "source": [
    "class Point:\n",
    "    def __init__(self, x, y):\n",
    "        self.x = x\n",
    "        self.y = y\n",
    "\n",
    "p = Point(3, 5)\n",
    "print(p.x)\n",
    "print(p.y)"
   ]
  },
  {
   "cell_type": "markdown",
   "metadata": {},
   "source": [
    "#### HTTP\n",
    "http request is sent each time we type a website address and send back a http respond. \n",
    "\n",
    "Flask is a microframework written in python. Makes web app dev easy\n",
    "\n",
    "Flask code is generally stored in a file called application.py"
   ]
  },
  {
   "cell_type": "code",
   "execution_count": 11,
   "metadata": {},
   "outputs": [],
   "source": [
    "from flask import Flask # Import flask module\n",
    "\n",
    "app = Flask(__name__) # I want to create a flask app \n",
    "\n",
    "@app.route(\"/\") # Default page given as `/`. what happens when user goes to home\n",
    "def index():\n",
    "    return \"Hello, world!\""
   ]
  },
  {
   "cell_type": "code",
   "execution_count": 22,
   "metadata": {},
   "outputs": [],
   "source": [
    "!cd .."
   ]
  },
  {
   "cell_type": "code",
   "execution_count": null,
   "metadata": {},
   "outputs": [],
   "source": []
  },
  {
   "cell_type": "code",
   "execution_count": null,
   "metadata": {},
   "outputs": [],
   "source": []
  },
  {
   "cell_type": "code",
   "execution_count": null,
   "metadata": {},
   "outputs": [],
   "source": []
  },
  {
   "cell_type": "code",
   "execution_count": null,
   "metadata": {},
   "outputs": [],
   "source": []
  },
  {
   "cell_type": "code",
   "execution_count": null,
   "metadata": {},
   "outputs": [],
   "source": [
    "# Empty class\n",
    "class Flight:\n",
    "    pass"
   ]
  },
  {
   "cell_type": "code",
   "execution_count": 2,
   "metadata": {},
   "outputs": [],
   "source": [
    "class Flight:\n",
    "\n",
    "    def __init__(self, origin, destination, duration):\n",
    "        self.origin = origin\n",
    "        self.destination = destination\n",
    "        self.duration = duration"
   ]
  },
  {
   "cell_type": "code",
   "execution_count": 3,
   "metadata": {},
   "outputs": [
    {
     "name": "stdout",
     "output_type": "stream",
     "text": [
      "New York\n",
      "Paris\n",
      "550\n"
     ]
    }
   ],
   "source": [
    "class Flight:\n",
    "\n",
    "    def __init__(self, origin, destination, duration):\n",
    "        self.origin = origin\n",
    "        self.destination = destination\n",
    "        self.duration = duration\n",
    "\n",
    "\n",
    "def main():\n",
    "\n",
    "    # Create flight.\n",
    "    f = Flight(origin=\"New York\", destination=\"Paris\", duration=540)\n",
    "\n",
    "    # Change the value of a variable.\n",
    "    f.duration += 10\n",
    "\n",
    "    # Print details about flight.\n",
    "    print(f.origin)\n",
    "    print(f.destination)\n",
    "    print(f.duration)\n",
    "\n",
    "if __name__ == \"__main__\":\n",
    "    main()\n"
   ]
  },
  {
   "cell_type": "code",
   "execution_count": 5,
   "metadata": {},
   "outputs": [
    {
     "name": "stdout",
     "output_type": "stream",
     "text": [
      "Flight origin: New York\n",
      "Flight destination: Paris\n",
      "Flight duration: 540 \n",
      "\n",
      "Flight origin: Tokyo\n",
      "Flight destination: Shanghai\n",
      "Flight duration: 185 \n",
      "\n"
     ]
    }
   ],
   "source": [
    "class Flight:\n",
    "\n",
    "    def __init__(self, origin, destination, duration):\n",
    "        self.origin = origin\n",
    "        self.destination = destination\n",
    "        self.duration = duration\n",
    "\n",
    "    def print_info(self):\n",
    "        print(f\"Flight origin: {self.origin}\")\n",
    "        print(f\"Flight destination: {self.destination}\")\n",
    "        print(f\"Flight duration: {self.duration} \\n\")\n",
    "\n",
    "\n",
    "def main():\n",
    "\n",
    "    f1 = Flight(origin=\"New York\", destination=\"Paris\", duration=540)\n",
    "    f1.print_info()\n",
    "\n",
    "    f2 = Flight(origin=\"Tokyo\", destination=\"Shanghai\", duration=185)\n",
    "    f2.print_info()\n",
    "\n",
    "\n",
    "if __name__ == \"__main__\":\n",
    "    main()\n"
   ]
  },
  {
   "cell_type": "code",
   "execution_count": 6,
   "metadata": {},
   "outputs": [
    {
     "name": "stdout",
     "output_type": "stream",
     "text": [
      "Flight origin: New York\n",
      "Flight destination: Paris\n",
      "Flight duration: 550\n"
     ]
    }
   ],
   "source": [
    "class Flight:\n",
    "\n",
    "    def __init__(self, origin, destination, duration):\n",
    "        self.origin = origin\n",
    "        self.destination = destination\n",
    "        self.duration = duration\n",
    "\n",
    "    def print_info(self):\n",
    "        print(f\"Flight origin: {self.origin}\")\n",
    "        print(f\"Flight destination: {self.destination}\")\n",
    "        print(f\"Flight duration: {self.duration}\")\n",
    "\n",
    "    def delay(self, amount):\n",
    "        self.duration += amount\n",
    "\n",
    "\n",
    "def main():\n",
    "\n",
    "    f1 = Flight(origin=\"New York\", destination=\"Paris\", duration=540)\n",
    "    f1.delay(10)\n",
    "    f1.print_info()\n",
    "\n",
    "\n",
    "if __name__ == \"__main__\":\n",
    "    main()\n"
   ]
  },
  {
   "cell_type": "code",
   "execution_count": 7,
   "metadata": {},
   "outputs": [
    {
     "name": "stdout",
     "output_type": "stream",
     "text": [
      "Flight origin: New York\n",
      "Flight destination: Paris\n",
      "Flight duration: 540\n",
      "\n",
      "Passengers:\n",
      "Alice\n",
      "Bob\n"
     ]
    }
   ],
   "source": [
    "class Flight:\n",
    "\n",
    "    counter = 1 # allows to number flights, update each time flight is created\n",
    "\n",
    "    def __init__(self, origin, destination, duration):\n",
    "\n",
    "        # Keep track of id number.\n",
    "        self.id = Flight.counter # first flight has id of one\n",
    "        Flight.counter += 1 \n",
    "\n",
    "        # Keep track of passengers.\n",
    "        self.passengers = [] # no passengers yet in flight\n",
    "\n",
    "        # Details about flight.\n",
    "        self.origin = origin\n",
    "        self.destination = destination\n",
    "        self.duration = duration\n",
    "\n",
    "    def print_info(self):\n",
    "        print(f\"Flight origin: {self.origin}\")\n",
    "        print(f\"Flight destination: {self.destination}\")\n",
    "        print(f\"Flight duration: {self.duration}\")\n",
    "\n",
    "        print()\n",
    "        print(\"Passengers:\")\n",
    "        for passenger in self.passengers:\n",
    "            print(f\"{passenger.name}\")\n",
    "\n",
    "    def delay(self, amount):\n",
    "        self.duration += amount\n",
    "\n",
    "    def add_passenger(self, p):\n",
    "        self.passengers.append(p)\n",
    "        p.flight_id = self.id\n",
    "\n",
    "\n",
    "class Passenger:\n",
    "\n",
    "    def __init__(self, name):\n",
    "        self.name = name\n",
    "\n",
    "\n",
    "def main():\n",
    "\n",
    "    # Create flight.\n",
    "    f1 = Flight(origin=\"New York\", destination=\"Paris\", duration=540)\n",
    "\n",
    "    # Create passengers.\n",
    "    alice = Passenger(name=\"Alice\")\n",
    "    bob = Passenger(name=\"Bob\")\n",
    "\n",
    "    # Add passengers.\n",
    "    f1.add_passenger(alice)\n",
    "    f1.add_passenger(bob)\n",
    "\n",
    "    f1.print_info()\n",
    "\n",
    "\n",
    "if __name__ == \"__main__\":\n",
    "    main()\n"
   ]
  },
  {
   "cell_type": "code",
   "execution_count": 8,
   "metadata": {},
   "outputs": [
    {
     "name": "stdout",
     "output_type": "stream",
     "text": [
      "Flight origin: New York\n",
      "Flight destination: Paris\n",
      "Flight duration: 540\n",
      "\n",
      "Passengers:\n",
      "Alice\n",
      "Bob\n"
     ]
    }
   ],
   "source": [
    "class Flight:\n",
    "\n",
    "    counter = 1\n",
    "\n",
    "    def __init__(self, origin, destination, duration):\n",
    "\n",
    "        # Keep track of id number.\n",
    "        self.id = Flight.counter\n",
    "        Flight.counter += 1\n",
    "\n",
    "        # Keep track of passengers.\n",
    "        self.passengers = []\n",
    "\n",
    "        # Details about flight.\n",
    "        self.origin = origin\n",
    "        self.destination = destination\n",
    "        self.duration = duration\n",
    "\n",
    "    def print_info(self):\n",
    "        print(f\"Flight origin: {self.origin}\")\n",
    "        print(f\"Flight destination: {self.destination}\")\n",
    "        print(f\"Flight duration: {self.duration}\")\n",
    "\n",
    "        print()\n",
    "        print(\"Passengers:\")\n",
    "        for passenger in self.passengers:\n",
    "            print(passenger)\n",
    "\n",
    "    def delay(self, amount):\n",
    "        self.duration += amount\n",
    "\n",
    "    def add_passenger(self, p):\n",
    "        self.passengers.append(p)\n",
    "        p.flight_id = self.id\n",
    "\n",
    "\n",
    "class Passenger:\n",
    "\n",
    "    def __init__(self, name):\n",
    "        self.name = name\n",
    "\n",
    "    def __repr__(self):\n",
    "        return self.name\n",
    "\n",
    "\n",
    "def main():\n",
    "\n",
    "    # Create flight.\n",
    "    f1 = Flight(origin=\"New York\", destination=\"Paris\", duration=540)\n",
    "\n",
    "    # Create passengers.\n",
    "    alice = Passenger(name=\"Alice\")\n",
    "    bob = Passenger(name=\"Bob\")\n",
    "\n",
    "    # Add passengers.\n",
    "    f1.add_passenger(alice)\n",
    "    f1.add_passenger(bob)\n",
    "\n",
    "    f1.print_info()\n",
    "\n",
    "\n",
    "if __name__ == \"__main__\":\n",
    "    main()\n"
   ]
  },
  {
   "cell_type": "code",
   "execution_count": 15,
   "metadata": {},
   "outputs": [
    {
     "ename": "AttributeError",
     "evalue": "'NoneType' object has no attribute 'drivername'",
     "output_type": "error",
     "traceback": [
      "\u001b[1;31m---------------------------------------------------------------------------\u001b[0m",
      "\u001b[1;31mAttributeError\u001b[0m                            Traceback (most recent call last)",
      "\u001b[1;32m<ipython-input-15-cff92159f758>\u001b[0m in \u001b[0;36m<module>\u001b[1;34m()\u001b[0m\n\u001b[0;32m     14\u001b[0m \u001b[1;32mif\u001b[0m \u001b[0m__name__\u001b[0m \u001b[1;33m==\u001b[0m \u001b[1;34m\"__main__\"\u001b[0m\u001b[1;33m:\u001b[0m\u001b[1;33m\u001b[0m\u001b[0m\n\u001b[0;32m     15\u001b[0m     \u001b[1;32mwith\u001b[0m \u001b[0mapp\u001b[0m\u001b[1;33m.\u001b[0m\u001b[0mapp_context\u001b[0m\u001b[1;33m(\u001b[0m\u001b[1;33m)\u001b[0m\u001b[1;33m:\u001b[0m\u001b[1;33m\u001b[0m\u001b[0m\n\u001b[1;32m---> 16\u001b[1;33m         \u001b[0mmain\u001b[0m\u001b[1;33m(\u001b[0m\u001b[1;33m)\u001b[0m\u001b[1;33m\u001b[0m\u001b[0m\n\u001b[0m",
      "\u001b[1;32m<ipython-input-15-cff92159f758>\u001b[0m in \u001b[0;36mmain\u001b[1;34m()\u001b[0m\n\u001b[0;32m     10\u001b[0m \u001b[1;33m\u001b[0m\u001b[0m\n\u001b[0;32m     11\u001b[0m \u001b[1;32mdef\u001b[0m \u001b[0mmain\u001b[0m\u001b[1;33m(\u001b[0m\u001b[1;33m)\u001b[0m\u001b[1;33m:\u001b[0m\u001b[1;33m\u001b[0m\u001b[0m\n\u001b[1;32m---> 12\u001b[1;33m     \u001b[0mdb\u001b[0m\u001b[1;33m.\u001b[0m\u001b[0mcreate_all\u001b[0m\u001b[1;33m(\u001b[0m\u001b[1;33m)\u001b[0m\u001b[1;33m\u001b[0m\u001b[0m\n\u001b[0m\u001b[0;32m     13\u001b[0m \u001b[1;33m\u001b[0m\u001b[0m\n\u001b[0;32m     14\u001b[0m \u001b[1;32mif\u001b[0m \u001b[0m__name__\u001b[0m \u001b[1;33m==\u001b[0m \u001b[1;34m\"__main__\"\u001b[0m\u001b[1;33m:\u001b[0m\u001b[1;33m\u001b[0m\u001b[0m\n",
      "\u001b[1;32m~\\Anaconda3\\lib\\site-packages\\flask_sqlalchemy\\__init__.py\u001b[0m in \u001b[0;36mcreate_all\u001b[1;34m(self, bind, app)\u001b[0m\n\u001b[0;32m    961\u001b[0m            \u001b[0mParameters\u001b[0m \u001b[0mwere\u001b[0m \u001b[0madded\u001b[0m\u001b[1;33m\u001b[0m\u001b[0m\n\u001b[0;32m    962\u001b[0m         \"\"\"\n\u001b[1;32m--> 963\u001b[1;33m         \u001b[0mself\u001b[0m\u001b[1;33m.\u001b[0m\u001b[0m_execute_for_all_tables\u001b[0m\u001b[1;33m(\u001b[0m\u001b[0mapp\u001b[0m\u001b[1;33m,\u001b[0m \u001b[0mbind\u001b[0m\u001b[1;33m,\u001b[0m \u001b[1;34m'create_all'\u001b[0m\u001b[1;33m)\u001b[0m\u001b[1;33m\u001b[0m\u001b[0m\n\u001b[0m\u001b[0;32m    964\u001b[0m \u001b[1;33m\u001b[0m\u001b[0m\n\u001b[0;32m    965\u001b[0m     \u001b[1;32mdef\u001b[0m \u001b[0mdrop_all\u001b[0m\u001b[1;33m(\u001b[0m\u001b[0mself\u001b[0m\u001b[1;33m,\u001b[0m \u001b[0mbind\u001b[0m\u001b[1;33m=\u001b[0m\u001b[1;34m'__all__'\u001b[0m\u001b[1;33m,\u001b[0m \u001b[0mapp\u001b[0m\u001b[1;33m=\u001b[0m\u001b[1;32mNone\u001b[0m\u001b[1;33m)\u001b[0m\u001b[1;33m:\u001b[0m\u001b[1;33m\u001b[0m\u001b[0m\n",
      "\u001b[1;32m~\\Anaconda3\\lib\\site-packages\\flask_sqlalchemy\\__init__.py\u001b[0m in \u001b[0;36m_execute_for_all_tables\u001b[1;34m(self, app, bind, operation, skip_tables)\u001b[0m\n\u001b[0;32m    953\u001b[0m                 \u001b[0mextra\u001b[0m\u001b[1;33m[\u001b[0m\u001b[1;34m'tables'\u001b[0m\u001b[1;33m]\u001b[0m \u001b[1;33m=\u001b[0m \u001b[0mtables\u001b[0m\u001b[1;33m\u001b[0m\u001b[0m\n\u001b[0;32m    954\u001b[0m             \u001b[0mop\u001b[0m \u001b[1;33m=\u001b[0m \u001b[0mgetattr\u001b[0m\u001b[1;33m(\u001b[0m\u001b[0mself\u001b[0m\u001b[1;33m.\u001b[0m\u001b[0mModel\u001b[0m\u001b[1;33m.\u001b[0m\u001b[0mmetadata\u001b[0m\u001b[1;33m,\u001b[0m \u001b[0moperation\u001b[0m\u001b[1;33m)\u001b[0m\u001b[1;33m\u001b[0m\u001b[0m\n\u001b[1;32m--> 955\u001b[1;33m             \u001b[0mop\u001b[0m\u001b[1;33m(\u001b[0m\u001b[0mbind\u001b[0m\u001b[1;33m=\u001b[0m\u001b[0mself\u001b[0m\u001b[1;33m.\u001b[0m\u001b[0mget_engine\u001b[0m\u001b[1;33m(\u001b[0m\u001b[0mapp\u001b[0m\u001b[1;33m,\u001b[0m \u001b[0mbind\u001b[0m\u001b[1;33m)\u001b[0m\u001b[1;33m,\u001b[0m \u001b[1;33m**\u001b[0m\u001b[0mextra\u001b[0m\u001b[1;33m)\u001b[0m\u001b[1;33m\u001b[0m\u001b[0m\n\u001b[0m\u001b[0;32m    956\u001b[0m \u001b[1;33m\u001b[0m\u001b[0m\n\u001b[0;32m    957\u001b[0m     \u001b[1;32mdef\u001b[0m \u001b[0mcreate_all\u001b[0m\u001b[1;33m(\u001b[0m\u001b[0mself\u001b[0m\u001b[1;33m,\u001b[0m \u001b[0mbind\u001b[0m\u001b[1;33m=\u001b[0m\u001b[1;34m'__all__'\u001b[0m\u001b[1;33m,\u001b[0m \u001b[0mapp\u001b[0m\u001b[1;33m=\u001b[0m\u001b[1;32mNone\u001b[0m\u001b[1;33m)\u001b[0m\u001b[1;33m:\u001b[0m\u001b[1;33m\u001b[0m\u001b[0m\n",
      "\u001b[1;32m~\\Anaconda3\\lib\\site-packages\\flask_sqlalchemy\\__init__.py\u001b[0m in \u001b[0;36mget_engine\u001b[1;34m(self, app, bind)\u001b[0m\n\u001b[0;32m    894\u001b[0m                 \u001b[0mstate\u001b[0m\u001b[1;33m.\u001b[0m\u001b[0mconnectors\u001b[0m\u001b[1;33m[\u001b[0m\u001b[0mbind\u001b[0m\u001b[1;33m]\u001b[0m \u001b[1;33m=\u001b[0m \u001b[0mconnector\u001b[0m\u001b[1;33m\u001b[0m\u001b[0m\n\u001b[0;32m    895\u001b[0m \u001b[1;33m\u001b[0m\u001b[0m\n\u001b[1;32m--> 896\u001b[1;33m             \u001b[1;32mreturn\u001b[0m \u001b[0mconnector\u001b[0m\u001b[1;33m.\u001b[0m\u001b[0mget_engine\u001b[0m\u001b[1;33m(\u001b[0m\u001b[1;33m)\u001b[0m\u001b[1;33m\u001b[0m\u001b[0m\n\u001b[0m\u001b[0;32m    897\u001b[0m \u001b[1;33m\u001b[0m\u001b[0m\n\u001b[0;32m    898\u001b[0m     \u001b[1;32mdef\u001b[0m \u001b[0mget_app\u001b[0m\u001b[1;33m(\u001b[0m\u001b[0mself\u001b[0m\u001b[1;33m,\u001b[0m \u001b[0mreference_app\u001b[0m\u001b[1;33m=\u001b[0m\u001b[1;32mNone\u001b[0m\u001b[1;33m)\u001b[0m\u001b[1;33m:\u001b[0m\u001b[1;33m\u001b[0m\u001b[0m\n",
      "\u001b[1;32m~\\Anaconda3\\lib\\site-packages\\flask_sqlalchemy\\__init__.py\u001b[0m in \u001b[0;36mget_engine\u001b[1;34m(self)\u001b[0m\n\u001b[0;32m    554\u001b[0m             \u001b[0moptions\u001b[0m \u001b[1;33m=\u001b[0m \u001b[1;33m{\u001b[0m\u001b[1;34m'convert_unicode'\u001b[0m\u001b[1;33m:\u001b[0m \u001b[1;32mTrue\u001b[0m\u001b[1;33m}\u001b[0m\u001b[1;33m\u001b[0m\u001b[0m\n\u001b[0;32m    555\u001b[0m             \u001b[0mself\u001b[0m\u001b[1;33m.\u001b[0m\u001b[0m_sa\u001b[0m\u001b[1;33m.\u001b[0m\u001b[0mapply_pool_defaults\u001b[0m\u001b[1;33m(\u001b[0m\u001b[0mself\u001b[0m\u001b[1;33m.\u001b[0m\u001b[0m_app\u001b[0m\u001b[1;33m,\u001b[0m \u001b[0moptions\u001b[0m\u001b[1;33m)\u001b[0m\u001b[1;33m\u001b[0m\u001b[0m\n\u001b[1;32m--> 556\u001b[1;33m             \u001b[0mself\u001b[0m\u001b[1;33m.\u001b[0m\u001b[0m_sa\u001b[0m\u001b[1;33m.\u001b[0m\u001b[0mapply_driver_hacks\u001b[0m\u001b[1;33m(\u001b[0m\u001b[0mself\u001b[0m\u001b[1;33m.\u001b[0m\u001b[0m_app\u001b[0m\u001b[1;33m,\u001b[0m \u001b[0minfo\u001b[0m\u001b[1;33m,\u001b[0m \u001b[0moptions\u001b[0m\u001b[1;33m)\u001b[0m\u001b[1;33m\u001b[0m\u001b[0m\n\u001b[0m\u001b[0;32m    557\u001b[0m             \u001b[1;32mif\u001b[0m \u001b[0mecho\u001b[0m\u001b[1;33m:\u001b[0m\u001b[1;33m\u001b[0m\u001b[0m\n\u001b[0;32m    558\u001b[0m                 \u001b[0moptions\u001b[0m\u001b[1;33m[\u001b[0m\u001b[1;34m'echo'\u001b[0m\u001b[1;33m]\u001b[0m \u001b[1;33m=\u001b[0m \u001b[0mecho\u001b[0m\u001b[1;33m\u001b[0m\u001b[0m\n",
      "\u001b[1;32m~\\Anaconda3\\lib\\site-packages\\flask_sqlalchemy\\__init__.py\u001b[0m in \u001b[0;36mapply_driver_hacks\u001b[1;34m(self, app, info, options)\u001b[0m\n\u001b[0;32m    828\u001b[0m         \u001b[0;31m`\u001b[0m\u001b[0mSQLALCHEMY_NATIVE_UNICODE\u001b[0m\u001b[0;31m`\u001b[0m\u001b[1;33m.\u001b[0m\u001b[1;33m\u001b[0m\u001b[0m\n\u001b[0;32m    829\u001b[0m         \"\"\"\n\u001b[1;32m--> 830\u001b[1;33m         \u001b[1;32mif\u001b[0m \u001b[0minfo\u001b[0m\u001b[1;33m.\u001b[0m\u001b[0mdrivername\u001b[0m\u001b[1;33m.\u001b[0m\u001b[0mstartswith\u001b[0m\u001b[1;33m(\u001b[0m\u001b[1;34m'mysql'\u001b[0m\u001b[1;33m)\u001b[0m\u001b[1;33m:\u001b[0m\u001b[1;33m\u001b[0m\u001b[0m\n\u001b[0m\u001b[0;32m    831\u001b[0m             \u001b[0minfo\u001b[0m\u001b[1;33m.\u001b[0m\u001b[0mquery\u001b[0m\u001b[1;33m.\u001b[0m\u001b[0msetdefault\u001b[0m\u001b[1;33m(\u001b[0m\u001b[1;34m'charset'\u001b[0m\u001b[1;33m,\u001b[0m \u001b[1;34m'utf8'\u001b[0m\u001b[1;33m)\u001b[0m\u001b[1;33m\u001b[0m\u001b[0m\n\u001b[0;32m    832\u001b[0m             \u001b[1;32mif\u001b[0m \u001b[0minfo\u001b[0m\u001b[1;33m.\u001b[0m\u001b[0mdrivername\u001b[0m \u001b[1;33m!=\u001b[0m \u001b[1;34m'mysql+gaerdbms'\u001b[0m\u001b[1;33m:\u001b[0m\u001b[1;33m\u001b[0m\u001b[0m\n",
      "\u001b[1;31mAttributeError\u001b[0m: 'NoneType' object has no attribute 'drivername'"
     ]
    }
   ],
   "source": [
    "import os\n",
    "\n",
    "from flask import Flask, render_template, request\n",
    "from models import *\n",
    "\n",
    "app = Flask(__name__)\n",
    "app.config[\"SQLALCHEMY_DATABASE_URI\"] = os.getenv(\"DATABASE_URL\")\n",
    "app.config[\"SQLALCHEMY_TRACK_MODIFICATIONS\"] = False\n",
    "db.init_app(app)\n",
    "\n",
    "def main():\n",
    "    db.create_all()\n",
    "\n",
    "if __name__ == \"__main__\":\n",
    "    with app.app_context():\n",
    "        main()\n"
   ]
  },
  {
   "cell_type": "code",
   "execution_count": null,
   "metadata": {},
   "outputs": [],
   "source": [
    "import requests\n",
    "\n",
    "def main():\n",
    "    res = requests.get(\"https://api.fixer.io/latest?base=USD&symbols=EUR\")\n",
    "    if res.status_code != 200:\n",
    "        raise Exception(\"ERROR: API request unsuccessful.\")\n",
    "    data = res.json()\n",
    "    print(data)\n",
    "\n",
    "if __name__ == \"__main__\":\n",
    "    main()\n"
   ]
  },
  {
   "cell_type": "code",
   "execution_count": null,
   "metadata": {},
   "outputs": [],
   "source": [
    "import requests\n",
    "\n",
    "def main():\n",
    "    res = requests.get(\"https://api.fixer.io/latest?base=USD&symbols=EUR\")\n",
    "    if res.status_code != 200:\n",
    "        raise Exception(\"ERROR: API request unsuccessful.\")\n",
    "    data = res.json()\n",
    "    rate = data[\"rates\"][\"EUR\"]\n",
    "    print(f\"1 USD is equal to {rate} EUR\")\n",
    "\n",
    "if __name__ == \"__main__\":\n",
    "    main()\n"
   ]
  },
  {
   "cell_type": "code",
   "execution_count": null,
   "metadata": {},
   "outputs": [],
   "source": [
    "import requests\n",
    "\n",
    "def main():\n",
    "    base = input(\"First Currency: \")\n",
    "    other = input(\"Second Currency: \")\n",
    "    res = requests.get(\"https://api.fixer.io/latest\",\n",
    "                       params={\"base\": base, \"symbols\": other})\n",
    "    if res.status_code != 200:\n",
    "        raise Exception(\"ERROR: API request unsuccessful.\")\n",
    "    data = res.json()\n",
    "    rate = data[\"rates\"][other]\n",
    "    print(f\"1 {base} is equal to {rate} {other}\")\n",
    "\n",
    "if __name__ == \"__main__\":\n",
    "    main()\n"
   ]
  },
  {
   "cell_type": "code",
   "execution_count": null,
   "metadata": {},
   "outputs": [],
   "source": [
    "import requests\n",
    "\n",
    "def main():\n",
    "    res = requests.get(\"https://www.google.com/\")\n",
    "    print(res.text)\n",
    "\n",
    "if __name__ == \"__main__\":\n",
    "    main()\n"
   ]
  },
  {
   "cell_type": "code",
   "execution_count": null,
   "metadata": {},
   "outputs": [],
   "source": [
    "import csv\n",
    "import os\n",
    "\n",
    "from sqlalchemy import create_engine\n",
    "from sqlalchemy.orm import scoped_session, sessionmaker\n",
    "\n",
    "engine = create_engine(os.getenv(\"DATABASE_URL\"))\n",
    "db = scoped_session(sessionmaker(bind=engine))\n",
    "\n",
    "def main():\n",
    "    f = open(\"flights.csv\")\n",
    "    reader = csv.reader(f)\n",
    "    for origin, destination, duration in reader:\n",
    "        db.execute(\"INSERT INTO flights (origin, destination, duration) VALUES (:origin, :destination, :duration)\",\n",
    "                   {\"origin\": origin, \"destination\": destination, \"duration\": duration})\n",
    "        print(f\"Added flight from {origin} to {destination} lasting {duration} minutes.\")\n",
    "    db.commit()\n",
    "\n",
    "if __name__ == \"__main__\":\n",
    "    main()\n"
   ]
  },
  {
   "cell_type": "code",
   "execution_count": 16,
   "metadata": {},
   "outputs": [
    {
     "ename": "FileNotFoundError",
     "evalue": "[Errno 2] No such file or directory: 'flights.csv'",
     "output_type": "error",
     "traceback": [
      "\u001b[1;31m---------------------------------------------------------------------------\u001b[0m",
      "\u001b[1;31mFileNotFoundError\u001b[0m                         Traceback (most recent call last)",
      "\u001b[1;32m<ipython-input-16-69ee567bfe6d>\u001b[0m in \u001b[0;36m<module>\u001b[1;34m()\u001b[0m\n\u001b[0;32m     21\u001b[0m \u001b[1;32mif\u001b[0m \u001b[0m__name__\u001b[0m \u001b[1;33m==\u001b[0m \u001b[1;34m\"__main__\"\u001b[0m\u001b[1;33m:\u001b[0m\u001b[1;33m\u001b[0m\u001b[0m\n\u001b[0;32m     22\u001b[0m     \u001b[1;32mwith\u001b[0m \u001b[0mapp\u001b[0m\u001b[1;33m.\u001b[0m\u001b[0mapp_context\u001b[0m\u001b[1;33m(\u001b[0m\u001b[1;33m)\u001b[0m\u001b[1;33m:\u001b[0m\u001b[1;33m\u001b[0m\u001b[0m\n\u001b[1;32m---> 23\u001b[1;33m         \u001b[0mmain\u001b[0m\u001b[1;33m(\u001b[0m\u001b[1;33m)\u001b[0m\u001b[1;33m\u001b[0m\u001b[0m\n\u001b[0m",
      "\u001b[1;32m<ipython-input-16-69ee567bfe6d>\u001b[0m in \u001b[0;36mmain\u001b[1;34m()\u001b[0m\n\u001b[0;32m     11\u001b[0m \u001b[1;33m\u001b[0m\u001b[0m\n\u001b[0;32m     12\u001b[0m \u001b[1;32mdef\u001b[0m \u001b[0mmain\u001b[0m\u001b[1;33m(\u001b[0m\u001b[1;33m)\u001b[0m\u001b[1;33m:\u001b[0m\u001b[1;33m\u001b[0m\u001b[0m\n\u001b[1;32m---> 13\u001b[1;33m     \u001b[0mf\u001b[0m \u001b[1;33m=\u001b[0m \u001b[0mopen\u001b[0m\u001b[1;33m(\u001b[0m\u001b[1;34m\"flights.csv\"\u001b[0m\u001b[1;33m)\u001b[0m\u001b[1;33m\u001b[0m\u001b[0m\n\u001b[0m\u001b[0;32m     14\u001b[0m     \u001b[0mreader\u001b[0m \u001b[1;33m=\u001b[0m \u001b[0mcsv\u001b[0m\u001b[1;33m.\u001b[0m\u001b[0mreader\u001b[0m\u001b[1;33m(\u001b[0m\u001b[0mf\u001b[0m\u001b[1;33m)\u001b[0m\u001b[1;33m\u001b[0m\u001b[0m\n\u001b[0;32m     15\u001b[0m     \u001b[1;32mfor\u001b[0m \u001b[0morigin\u001b[0m\u001b[1;33m,\u001b[0m \u001b[0mdestination\u001b[0m\u001b[1;33m,\u001b[0m \u001b[0mduration\u001b[0m \u001b[1;32min\u001b[0m \u001b[0mreader\u001b[0m\u001b[1;33m:\u001b[0m\u001b[1;33m\u001b[0m\u001b[0m\n",
      "\u001b[1;31mFileNotFoundError\u001b[0m: [Errno 2] No such file or directory: 'flights.csv'"
     ]
    }
   ],
   "source": [
    "import csv\n",
    "import os\n",
    "\n",
    "from flask import Flask, render_template, request\n",
    "from models import *\n",
    "\n",
    "app = Flask(__name__)\n",
    "app.config[\"SQLALCHEMY_DATABASE_URI\"] = os.getenv(\"DATABASE_URL\")\n",
    "app.config[\"SQLALCHEMY_TRACK_MODIFICATIONS\"] = False\n",
    "db.init_app(app)\n",
    "\n",
    "def main():\n",
    "    f = open(\"flights.csv\")\n",
    "    reader = csv.reader(f)\n",
    "    for origin, destination, duration in reader:\n",
    "        flight = Flight(origin=origin, destination=destination, duration=duration)\n",
    "        db.session.add(flight)\n",
    "        print(f\"Added flight from {origin} to {destination} lasting {duration} minutes.\")\n",
    "    db.session.commit()\n",
    "\n",
    "if __name__ == \"__main__\":\n",
    "    with app.app_context():\n",
    "        main()\n"
   ]
  },
  {
   "cell_type": "code",
   "execution_count": 17,
   "metadata": {},
   "outputs": [
    {
     "ename": "AttributeError",
     "evalue": "'NoneType' object has no attribute '_instantiate_plugins'",
     "output_type": "error",
     "traceback": [
      "\u001b[1;31m---------------------------------------------------------------------------\u001b[0m",
      "\u001b[1;31mAttributeError\u001b[0m                            Traceback (most recent call last)",
      "\u001b[1;32m<ipython-input-17-d1c584d54981>\u001b[0m in \u001b[0;36m<module>\u001b[1;34m()\u001b[0m\n\u001b[0;32m      4\u001b[0m \u001b[1;32mfrom\u001b[0m \u001b[0msqlalchemy\u001b[0m\u001b[1;33m.\u001b[0m\u001b[0morm\u001b[0m \u001b[1;32mimport\u001b[0m \u001b[0mscoped_session\u001b[0m\u001b[1;33m,\u001b[0m \u001b[0msessionmaker\u001b[0m\u001b[1;33m\u001b[0m\u001b[0m\n\u001b[0;32m      5\u001b[0m \u001b[1;33m\u001b[0m\u001b[0m\n\u001b[1;32m----> 6\u001b[1;33m \u001b[0mengine\u001b[0m \u001b[1;33m=\u001b[0m \u001b[0mcreate_engine\u001b[0m\u001b[1;33m(\u001b[0m\u001b[0mos\u001b[0m\u001b[1;33m.\u001b[0m\u001b[0mgetenv\u001b[0m\u001b[1;33m(\u001b[0m\u001b[1;34m\"DATABASE_URL\"\u001b[0m\u001b[1;33m)\u001b[0m\u001b[1;33m)\u001b[0m\u001b[1;33m\u001b[0m\u001b[0m\n\u001b[0m\u001b[0;32m      7\u001b[0m \u001b[0mdb\u001b[0m \u001b[1;33m=\u001b[0m \u001b[0mscoped_session\u001b[0m\u001b[1;33m(\u001b[0m\u001b[0msessionmaker\u001b[0m\u001b[1;33m(\u001b[0m\u001b[0mbind\u001b[0m\u001b[1;33m=\u001b[0m\u001b[0mengine\u001b[0m\u001b[1;33m)\u001b[0m\u001b[1;33m)\u001b[0m\u001b[1;33m\u001b[0m\u001b[0m\n\u001b[0;32m      8\u001b[0m \u001b[1;33m\u001b[0m\u001b[0m\n",
      "\u001b[1;32m~\\Anaconda3\\lib\\site-packages\\sqlalchemy\\engine\\__init__.py\u001b[0m in \u001b[0;36mcreate_engine\u001b[1;34m(*args, **kwargs)\u001b[0m\n\u001b[0;32m    422\u001b[0m     \u001b[0mstrategy\u001b[0m \u001b[1;33m=\u001b[0m \u001b[0mkwargs\u001b[0m\u001b[1;33m.\u001b[0m\u001b[0mpop\u001b[0m\u001b[1;33m(\u001b[0m\u001b[1;34m'strategy'\u001b[0m\u001b[1;33m,\u001b[0m \u001b[0mdefault_strategy\u001b[0m\u001b[1;33m)\u001b[0m\u001b[1;33m\u001b[0m\u001b[0m\n\u001b[0;32m    423\u001b[0m     \u001b[0mstrategy\u001b[0m \u001b[1;33m=\u001b[0m \u001b[0mstrategies\u001b[0m\u001b[1;33m.\u001b[0m\u001b[0mstrategies\u001b[0m\u001b[1;33m[\u001b[0m\u001b[0mstrategy\u001b[0m\u001b[1;33m]\u001b[0m\u001b[1;33m\u001b[0m\u001b[0m\n\u001b[1;32m--> 424\u001b[1;33m     \u001b[1;32mreturn\u001b[0m \u001b[0mstrategy\u001b[0m\u001b[1;33m.\u001b[0m\u001b[0mcreate\u001b[0m\u001b[1;33m(\u001b[0m\u001b[1;33m*\u001b[0m\u001b[0margs\u001b[0m\u001b[1;33m,\u001b[0m \u001b[1;33m**\u001b[0m\u001b[0mkwargs\u001b[0m\u001b[1;33m)\u001b[0m\u001b[1;33m\u001b[0m\u001b[0m\n\u001b[0m\u001b[0;32m    425\u001b[0m \u001b[1;33m\u001b[0m\u001b[0m\n\u001b[0;32m    426\u001b[0m \u001b[1;33m\u001b[0m\u001b[0m\n",
      "\u001b[1;32m~\\Anaconda3\\lib\\site-packages\\sqlalchemy\\engine\\strategies.py\u001b[0m in \u001b[0;36mcreate\u001b[1;34m(self, name_or_url, **kwargs)\u001b[0m\n\u001b[0;32m     50\u001b[0m         \u001b[0mu\u001b[0m \u001b[1;33m=\u001b[0m \u001b[0murl\u001b[0m\u001b[1;33m.\u001b[0m\u001b[0mmake_url\u001b[0m\u001b[1;33m(\u001b[0m\u001b[0mname_or_url\u001b[0m\u001b[1;33m)\u001b[0m\u001b[1;33m\u001b[0m\u001b[0m\n\u001b[0;32m     51\u001b[0m \u001b[1;33m\u001b[0m\u001b[0m\n\u001b[1;32m---> 52\u001b[1;33m         \u001b[0mplugins\u001b[0m \u001b[1;33m=\u001b[0m \u001b[0mu\u001b[0m\u001b[1;33m.\u001b[0m\u001b[0m_instantiate_plugins\u001b[0m\u001b[1;33m(\u001b[0m\u001b[0mkwargs\u001b[0m\u001b[1;33m)\u001b[0m\u001b[1;33m\u001b[0m\u001b[0m\n\u001b[0m\u001b[0;32m     53\u001b[0m \u001b[1;33m\u001b[0m\u001b[0m\n\u001b[0;32m     54\u001b[0m         \u001b[0mu\u001b[0m\u001b[1;33m.\u001b[0m\u001b[0mquery\u001b[0m\u001b[1;33m.\u001b[0m\u001b[0mpop\u001b[0m\u001b[1;33m(\u001b[0m\u001b[1;34m'plugin'\u001b[0m\u001b[1;33m,\u001b[0m \u001b[1;32mNone\u001b[0m\u001b[1;33m)\u001b[0m\u001b[1;33m\u001b[0m\u001b[0m\n",
      "\u001b[1;31mAttributeError\u001b[0m: 'NoneType' object has no attribute '_instantiate_plugins'"
     ]
    }
   ],
   "source": [
    "import os\n",
    "\n",
    "from sqlalchemy import create_engine\n",
    "from sqlalchemy.orm import scoped_session, sessionmaker\n",
    "\n",
    "engine = create_engine(os.getenv(\"DATABASE_URL\"))\n",
    "db = scoped_session(sessionmaker(bind=engine))\n",
    "\n",
    "def main():\n",
    "    flights = db.execute(\"SELECT origin, destination, duration FROM flights\").fetchall()\n",
    "    for flight in flights:\n",
    "        print(f\"{flight.origin} to {flight.destination}, {flight.duration} minutes.\")\n",
    "\n",
    "if __name__ == \"__main__\":\n",
    "    main()\n"
   ]
  },
  {
   "cell_type": "code",
   "execution_count": null,
   "metadata": {},
   "outputs": [],
   "source": [
    "import os\n",
    "\n",
    "from flask import Flask, render_template, request\n",
    "from models import *\n",
    "\n",
    "app = Flask(__name__)\n",
    "app.config[\"SQLALCHEMY_DATABASE_URI\"] = os.getenv(\"DATABASE_URL\")\n",
    "app.config[\"SQLALCHEMY_TRACK_MODIFICATIONS\"] = False\n",
    "db.init_app(app)\n",
    "\n",
    "def main():\n",
    "    flights = Flight.query.all()\n",
    "    for flight in flights:\n",
    "        print(f\"{flight.origin} to {flight.destination}, {flight.duration} minutes.\")\n",
    "\n",
    "if __name__ == \"__main__\":\n",
    "    with app.app_context():\n",
    "        main()\n"
   ]
  },
  {
   "cell_type": "code",
   "execution_count": 18,
   "metadata": {},
   "outputs": [],
   "source": [
    "from flask_sqlalchemy import SQLAlchemy\n",
    "\n",
    "db = SQLAlchemy()\n",
    "\n",
    "class Flight(db.Model):\n",
    "    __tablename__ = \"flights\"\n",
    "    id = db.Column(db.Integer, primary_key=True)\n",
    "    origin = db.Column(db.String, nullable=False)\n",
    "    destination = db.Column(db.String, nullable=False)\n",
    "    duration = db.Column(db.Integer, nullable=False)\n",
    "\n",
    "\n",
    "class Passenger(db.Model):\n",
    "    __tablename__ = \"passengers\"\n",
    "    id = db.Column(db.Integer, primary_key=True)\n",
    "    name = db.Column(db.String, nullable=False)\n",
    "    flight_id = db.Column(db.Integer, db.ForeignKey(\"flights.id\"), nullable=False)\n"
   ]
  },
  {
   "cell_type": "code",
   "execution_count": 19,
   "metadata": {},
   "outputs": [
    {
     "ename": "AttributeError",
     "evalue": "'NoneType' object has no attribute '_instantiate_plugins'",
     "output_type": "error",
     "traceback": [
      "\u001b[1;31m---------------------------------------------------------------------------\u001b[0m",
      "\u001b[1;31mAttributeError\u001b[0m                            Traceback (most recent call last)",
      "\u001b[1;32m<ipython-input-19-1b39cc716135>\u001b[0m in \u001b[0;36m<module>\u001b[1;34m()\u001b[0m\n\u001b[0;32m      4\u001b[0m \u001b[1;32mfrom\u001b[0m \u001b[0msqlalchemy\u001b[0m\u001b[1;33m.\u001b[0m\u001b[0morm\u001b[0m \u001b[1;32mimport\u001b[0m \u001b[0mscoped_session\u001b[0m\u001b[1;33m,\u001b[0m \u001b[0msessionmaker\u001b[0m\u001b[1;33m\u001b[0m\u001b[0m\n\u001b[0;32m      5\u001b[0m \u001b[1;33m\u001b[0m\u001b[0m\n\u001b[1;32m----> 6\u001b[1;33m \u001b[0mengine\u001b[0m \u001b[1;33m=\u001b[0m \u001b[0mcreate_engine\u001b[0m\u001b[1;33m(\u001b[0m\u001b[0mos\u001b[0m\u001b[1;33m.\u001b[0m\u001b[0mgetenv\u001b[0m\u001b[1;33m(\u001b[0m\u001b[1;34m\"DATABASE_URL\"\u001b[0m\u001b[1;33m)\u001b[0m\u001b[1;33m)\u001b[0m\u001b[1;33m\u001b[0m\u001b[0m\n\u001b[0m\u001b[0;32m      7\u001b[0m \u001b[0mdb\u001b[0m \u001b[1;33m=\u001b[0m \u001b[0mscoped_session\u001b[0m\u001b[1;33m(\u001b[0m\u001b[0msessionmaker\u001b[0m\u001b[1;33m(\u001b[0m\u001b[0mbind\u001b[0m\u001b[1;33m=\u001b[0m\u001b[0mengine\u001b[0m\u001b[1;33m)\u001b[0m\u001b[1;33m)\u001b[0m\u001b[1;33m\u001b[0m\u001b[0m\n\u001b[0;32m      8\u001b[0m \u001b[1;33m\u001b[0m\u001b[0m\n",
      "\u001b[1;32m~\\Anaconda3\\lib\\site-packages\\sqlalchemy\\engine\\__init__.py\u001b[0m in \u001b[0;36mcreate_engine\u001b[1;34m(*args, **kwargs)\u001b[0m\n\u001b[0;32m    422\u001b[0m     \u001b[0mstrategy\u001b[0m \u001b[1;33m=\u001b[0m \u001b[0mkwargs\u001b[0m\u001b[1;33m.\u001b[0m\u001b[0mpop\u001b[0m\u001b[1;33m(\u001b[0m\u001b[1;34m'strategy'\u001b[0m\u001b[1;33m,\u001b[0m \u001b[0mdefault_strategy\u001b[0m\u001b[1;33m)\u001b[0m\u001b[1;33m\u001b[0m\u001b[0m\n\u001b[0;32m    423\u001b[0m     \u001b[0mstrategy\u001b[0m \u001b[1;33m=\u001b[0m \u001b[0mstrategies\u001b[0m\u001b[1;33m.\u001b[0m\u001b[0mstrategies\u001b[0m\u001b[1;33m[\u001b[0m\u001b[0mstrategy\u001b[0m\u001b[1;33m]\u001b[0m\u001b[1;33m\u001b[0m\u001b[0m\n\u001b[1;32m--> 424\u001b[1;33m     \u001b[1;32mreturn\u001b[0m \u001b[0mstrategy\u001b[0m\u001b[1;33m.\u001b[0m\u001b[0mcreate\u001b[0m\u001b[1;33m(\u001b[0m\u001b[1;33m*\u001b[0m\u001b[0margs\u001b[0m\u001b[1;33m,\u001b[0m \u001b[1;33m**\u001b[0m\u001b[0mkwargs\u001b[0m\u001b[1;33m)\u001b[0m\u001b[1;33m\u001b[0m\u001b[0m\n\u001b[0m\u001b[0;32m    425\u001b[0m \u001b[1;33m\u001b[0m\u001b[0m\n\u001b[0;32m    426\u001b[0m \u001b[1;33m\u001b[0m\u001b[0m\n",
      "\u001b[1;32m~\\Anaconda3\\lib\\site-packages\\sqlalchemy\\engine\\strategies.py\u001b[0m in \u001b[0;36mcreate\u001b[1;34m(self, name_or_url, **kwargs)\u001b[0m\n\u001b[0;32m     50\u001b[0m         \u001b[0mu\u001b[0m \u001b[1;33m=\u001b[0m \u001b[0murl\u001b[0m\u001b[1;33m.\u001b[0m\u001b[0mmake_url\u001b[0m\u001b[1;33m(\u001b[0m\u001b[0mname_or_url\u001b[0m\u001b[1;33m)\u001b[0m\u001b[1;33m\u001b[0m\u001b[0m\n\u001b[0;32m     51\u001b[0m \u001b[1;33m\u001b[0m\u001b[0m\n\u001b[1;32m---> 52\u001b[1;33m         \u001b[0mplugins\u001b[0m \u001b[1;33m=\u001b[0m \u001b[0mu\u001b[0m\u001b[1;33m.\u001b[0m\u001b[0m_instantiate_plugins\u001b[0m\u001b[1;33m(\u001b[0m\u001b[0mkwargs\u001b[0m\u001b[1;33m)\u001b[0m\u001b[1;33m\u001b[0m\u001b[0m\n\u001b[0m\u001b[0;32m     53\u001b[0m \u001b[1;33m\u001b[0m\u001b[0m\n\u001b[0;32m     54\u001b[0m         \u001b[0mu\u001b[0m\u001b[1;33m.\u001b[0m\u001b[0mquery\u001b[0m\u001b[1;33m.\u001b[0m\u001b[0mpop\u001b[0m\u001b[1;33m(\u001b[0m\u001b[1;34m'plugin'\u001b[0m\u001b[1;33m,\u001b[0m \u001b[1;32mNone\u001b[0m\u001b[1;33m)\u001b[0m\u001b[1;33m\u001b[0m\u001b[0m\n",
      "\u001b[1;31mAttributeError\u001b[0m: 'NoneType' object has no attribute '_instantiate_plugins'"
     ]
    }
   ],
   "source": [
    "import os\n",
    "\n",
    "from sqlalchemy import create_engine\n",
    "from sqlalchemy.orm import scoped_session, sessionmaker\n",
    "\n",
    "engine = create_engine(os.getenv(\"DATABASE_URL\"))\n",
    "db = scoped_session(sessionmaker(bind=engine))\n",
    "\n",
    "def main():\n",
    "\n",
    "    # List all flights.\n",
    "    flights = db.execute(\"SELECT id, origin, destination, duration FROM flights\").fetchall()\n",
    "    for flight in flights:\n",
    "        print(f\"Flight {flight.id}: {flight.origin} to {flight.destination}, {flight.duration} minutes.\")\n",
    "\n",
    "    # Prompt user to choose a flight.\n",
    "    flight_id = int(input(\"\\nFlight ID: \"))\n",
    "    flight = db.execute(\"SELECT origin, destination, duration FROM flights WHERE id = :id\",\n",
    "                        {\"id\": flight_id}).fetchone()\n",
    "\n",
    "    # Make sure flight is valid.\n",
    "    if flight is None:\n",
    "        print(\"Error: No such flight.\")\n",
    "        return\n",
    "\n",
    "    # List passengers.\n",
    "    passengers = db.execute(\"SELECT name FROM passengers WHERE flight_id = :flight_id\",\n",
    "                            {\"flight_id\": flight_id}).fetchall()\n",
    "    print(\"\\nPassengers:\")\n",
    "    for passenger in passengers:\n",
    "        print(passenger.name)\n",
    "    if len(passengers) == 0:\n",
    "        print(\"No passengers.\")\n",
    "\n",
    "if __name__ == \"__main__\":\n",
    "    main()\n"
   ]
  },
  {
   "cell_type": "code",
   "execution_count": null,
   "metadata": {},
   "outputs": [],
   "source": [
    "from flask import Flask, render_template, request\n",
    "from models import *\n",
    "\n",
    "app = Flask(__name__)\n",
    "app.config[\"SQLALCHEMY_DATABASE_URI\"] = os.getenv(\"DATABASE_URL\")\n",
    "app.config[\"SQLALCHEMY_TRACK_MODIFICATIONS\"] = False\n",
    "db.init_app(app)\n",
    "\n",
    "def main():\n",
    "    flights = Flight.query.all()\n",
    "    for flight in flights:\n",
    "        print(f\"Flight {flight.id}: {flight.origin} to {flight.destination}, {flight.duration} minutes.\")\n",
    "\n",
    "    # Prompt user to choose a flight.\n",
    "    flight_id = int(input(\"\\nFlight ID: \"))\n",
    "    flight = Flight.query.get(flight_id)\n",
    "\n",
    "    # Make sure flight is valid.\n",
    "    if flight is None:\n",
    "        print(\"Error: No such flight.\")\n",
    "        return\n",
    "\n",
    "    passengers = Passenger.query.filter_by(flight_id=flight_id).all()\n",
    "    print(\"\\nPassengers:\")\n",
    "    for passenger in passengers:\n",
    "        print(passenger.name)\n",
    "    if len(passengers) == 0:\n",
    "        print(\"No passengers.\")\n",
    "\n",
    "if __name__ == \"__main__\":\n",
    "    with app.app_context():\n",
    "        main()\n"
   ]
  }
 ],
 "metadata": {
  "kernelspec": {
   "display_name": "Python 3",
   "language": "python",
   "name": "python3"
  },
  "language_info": {
   "codemirror_mode": {
    "name": "ipython",
    "version": 3
   },
   "file_extension": ".py",
   "mimetype": "text/x-python",
   "name": "python",
   "nbconvert_exporter": "python",
   "pygments_lexer": "ipython3",
   "version": "3.6.8"
  }
 },
 "nbformat": 4,
 "nbformat_minor": 4
}
