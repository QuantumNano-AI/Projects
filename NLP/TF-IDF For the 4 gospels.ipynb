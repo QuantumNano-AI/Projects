{
 "cells": [
  {
   "cell_type": "markdown",
   "metadata": {},
   "source": [
    "# TF - IDF FOR THE BOOKS OF MATTHEW, MARK, LUKE, JOHN"
   ]
  },
  {
   "cell_type": "code",
   "execution_count": 1,
   "metadata": {
    "collapsed": true
   },
   "outputs": [],
   "source": [
    "from textblob import TextBlob as tb\n",
    "import math"
   ]
  },
  {
   "cell_type": "markdown",
   "metadata": {},
   "source": [
    "### Create a collection of documents as textblobs"
   ]
  },
  {
   "cell_type": "code",
   "execution_count": 2,
   "metadata": {},
   "outputs": [
    {
     "name": "stdout",
     "output_type": "stream",
     "text": [
      "[nltk_data] Downloading package stopwords to\n",
      "[nltk_data]     C:\\Users\\Owner\\AppData\\Roaming\\nltk_data...\n",
      "[nltk_data]   Package stopwords is already up-to-date!\n",
      "-----------------------------------------------------------------------\n",
      "Top words in document 1\n",
      "\t: talents, TF-IDF: 0.00075\n",
      "\t: weeds, TF-IDF: 0.00054\n",
      "\t: swears, TF-IDF: 0.00047\n",
      "\t: pieces, TF-IDF: 0.00047\n",
      "\t: dream, TF-IDF: 0.00041\n",
      "\t: whereas, TF-IDF: 0.00041\n",
      "\t: eunuchs, TF-IDF: 0.00034\n",
      "\t: deportation, TF-IDF: 0.00027\n",
      "\t: gold, TF-IDF: 0.00027\n",
      "\t: guides, TF-IDF: 0.00027\n",
      "-----------------------------------------------------------------------\n",
      "Top words in document 2\n",
      "\t: arguing, TF-IDF: 0.00056\n",
      "\t: spitting, TF-IDF: 0.00033\n",
      "\t: baptizer, TF-IDF: 0.00033\n",
      "\t: sown, TF-IDF: 0.00032\n",
      "\t: tradition, TF-IDF: 0.00023\n",
      "\t: seeds, TF-IDF: 0.00023\n",
      "\t: paralytic, TF-IDF: 0.00023\n",
      "\t: acts, TF-IDF: 0.00022\n",
      "\t: sighed, TF-IDF: 0.00022\n",
      "\t: disputing, TF-IDF: 0.00022\n",
      "-----------------------------------------------------------------------\n",
      "Top words in document 3\n",
      "\t: elizabeth, TF-IDF: 0.00057\n",
      "\t: start, TF-IDF: 0.00045\n",
      "\t: minas, TF-IDF: 0.00032\n",
      "\t: declaring, TF-IDF: 0.00032\n",
      "\t: beating, TF-IDF: 0.00032\n",
      "\t: zechariah, TF-IDF: 0.00026\n",
      "\t: praising, TF-IDF: 0.00025\n",
      "\t: glorifying, TF-IDF: 0.00025\n",
      "\t: wanting, TF-IDF: 0.00025\n",
      "\t: preserve, TF-IDF: 0.00025\n",
      "-----------------------------------------------------------------------\n",
      "Top words in document 4\n",
      "\t: union, TF-IDF: 0.00222\n",
      "\t: remains, TF-IDF: 0.00097\n",
      "\t: loved, TF-IDF: 0.00074\n",
      "\t: initiative, TF-IDF: 0.00071\n",
      "\t: surrender, TF-IDF: 0.00062\n",
      "\t: sees, TF-IDF: 0.00062\n",
      "\t: hates, TF-IDF: 0.00062\n",
      "\t: exercises, TF-IDF: 0.00062\n",
      "\t: remain, TF-IDF: 0.00059\n",
      "\t: nathanael, TF-IDF: 0.00053\n"
     ]
    }
   ],
   "source": [
    "\n",
    "doc1 = open('matthew.txt')\n",
    "doc1 = doc1.read()\n",
    "from string import punctuation\n",
    "doc1 = ''.join(c for c in doc1 if not c.isdigit())\n",
    "doc1 = ''.join(c for c in doc1 if c not in ['\"',')','(','!','?','”','“','‘','’','——'])\n",
    "doc1 = ''.join(c for c in doc1 if c not in punctuation).lower()\n",
    "import nltk\n",
    "from nltk.corpus import stopwords\n",
    "nltk.download('stopwords')\n",
    "matttxt = ' '.join(c for c in doc1.split() if c not in stopwords.words('english'))\n",
    "doc1 = tb(matttxt)\n",
    "\n",
    "\n",
    "doc2 = open('Mark.txt')\n",
    "doc2 = doc2.read()\n",
    "doc2 = ''.join(c for c in doc2 if not c.isdigit())\n",
    "doc2 = ''.join(c for c in doc2 if c not in ['\"',')','(','!','?','”','“','‘','’','——'])\n",
    "doc2 = ''.join(c for c in doc2 if c not in punctuation).lower()\n",
    "marktxt = ' '.join(c for c in doc2.split() if c not in stopwords.words('english'))\n",
    "doc2 = tb(marktxt)\n",
    "\n",
    "\n",
    "doc3 = open('Luke.txt')\n",
    "doc3 = doc3.read()\n",
    "doc3 = ''.join(c for c in doc3 if not c.isdigit())\n",
    "doc3 = ''.join(c for c in doc3 if c not in ['\"',')','(','!','?','”','“','‘','’','——'])\n",
    "doc3 = ''.join(c for c in doc3 if c not in punctuation).lower()\n",
    "lutxt = ' '.join(c for c in doc3.split() if c not in stopwords.words('english'))\n",
    "doc3 = tb(lutxt)\n",
    "\n",
    "\n",
    "doc4 = open('John.txt')\n",
    "doc4 = doc4.read()\n",
    "doc4 = ''.join(c for c in doc4 if not c.isdigit())\n",
    "doc4 = ''.join(c for c in doc4 if c not in ['\"',')','(','!','?','”','“','‘','’','——'])\n",
    "doc4 = ''.join(c for c in doc4 if c not in punctuation).lower()\n",
    "jontxt = ' '.join(c for c in doc4.split() if c not in stopwords.words('english'))\n",
    "doc4 = tb(jontxt)\n",
    "\n",
    "docs = [doc1, doc2, doc3, doc4]\n",
    "\n",
    "\n",
    "# Create function for Term Frequency\n",
    "def tf(word, doc):\n",
    "    if len(doc.words) <1: return 0\n",
    "    else: return doc.words.count(word)/len(doc.words)\n",
    "\n",
    "# Create function to search for word in document\n",
    "def contains(word, docs):\n",
    "    return sum(1 for doc in docs if word in doc.words)\n",
    "\n",
    "# create function for Inverse Document Function\n",
    "def idf(word, docs):\n",
    "    return math.log(len(docs)/ (1 + contains(word, docs)))\n",
    "\n",
    "# Create a function for the overall importance also known here as tfidff\n",
    "def tfidf(word, doc, docs):\n",
    "    return(tf(word, doc) * idf(word, docs))\n",
    "\n",
    "\n",
    "# Use TF-IDF to get the 10 most important words in each of the documnets (intrinsic)\n",
    "for i, doc in enumerate(docs):\n",
    "    print('-----------------------------------------------------------------------')\n",
    "    print('Top words in document {}'.format(i + 1))\n",
    "    scores = {word: tfidf(word, doc, docs) for word in doc.words}\n",
    "    sorted_words = sorted(scores.items(), key = lambda x: x[1], reverse = True)\n",
    "    for word, score in sorted_words[:10]:\n",
    "        print('\\t: {}, TF-IDF: {}'.format(word, round(score, 5)))"
   ]
  },
  {
   "cell_type": "code",
   "execution_count": null,
   "metadata": {
    "collapsed": true
   },
   "outputs": [],
   "source": []
  }
 ],
 "metadata": {
  "kernelspec": {
   "display_name": "Python 3",
   "language": "python",
   "name": "python3"
  },
  "language_info": {
   "codemirror_mode": {
    "name": "ipython",
    "version": 3
   },
   "file_extension": ".py",
   "mimetype": "text/x-python",
   "name": "python",
   "nbconvert_exporter": "python",
   "pygments_lexer": "ipython3",
   "version": "3.5.4"
  }
 },
 "nbformat": 4,
 "nbformat_minor": 2
}
